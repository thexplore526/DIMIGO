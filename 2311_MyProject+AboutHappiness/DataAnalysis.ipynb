{
 "cells": [
  {
   "cell_type": "markdown",
   "id": "thousand-scheme",
   "metadata": {},
   "source": [
    "# Which arguments influence on World Happiness"
   ]
  },
  {
   "cell_type": "markdown",
   "id": "arabic-service",
   "metadata": {},
   "source": [
    "## 1. Problem Definition"
   ]
  },
  {
   "cell_type": "markdown",
   "id": "rotary-jacob",
   "metadata": {},
   "source": [
    "세계 행복 수준에 영향을 미치는 요인들은 어떤 것들이 있으며, 나아가 이들이 문화와 어떤 방식으로 연관되는지 분석한다."
   ]
  },
  {
   "cell_type": "markdown",
   "id": "rising-burke",
   "metadata": {},
   "source": [
    "## 2. Hypothesis Set"
   ]
  },
  {
   "cell_type": "markdown",
   "id": "pleased-bermuda",
   "metadata": {},
   "source": [
    "집단주의 문화와 개인주의 문화를 결정하는 사회적 요인들이 행복 수준의 지표의 중심이 될 것이다. \n",
    "이 때 개인주의적 문화를 이루는 북유럽의 사회민주주의 국가들의 행복 수준이 상대적으로 높을 것이다."
   ]
  },
  {
   "cell_type": "markdown",
   "id": "diagnostic-teaching",
   "metadata": {},
   "source": [
    "## 3. Get data"
   ]
  },
  {
   "cell_type": "code",
   "execution_count": 125,
   "id": "metropolitan-motorcycle",
   "metadata": {},
   "outputs": [
    {
     "name": "stdout",
     "output_type": "stream",
     "text": [
      "world-happiness-report-2021.zip: Skipping, found more recently modified local copy (use --force to force download)\n"
     ]
    }
   ],
   "source": [
    "#kaggle에서 API로 데이터셋 다운로드하기\n",
    "! kaggle datasets download -d ajaypalsinghlo/world-happiness-report-2021"
   ]
  },
  {
   "cell_type": "code",
   "execution_count": 126,
   "id": "alternative-cardiff",
   "metadata": {},
   "outputs": [
    {
     "name": "stderr",
     "output_type": "stream",
     "text": [
      "x world-happiness-report-2021.csv\n",
      "x world-happiness-report.csv\n"
     ]
    }
   ],
   "source": [
    "#다운로드한 데이터셋 ZIP파일 압축 풀어 happiness_data 파일 경로에 저장\n",
    "! tar xvf world-happiness-report-2021.zip -C happiness_data"
   ]
  },
  {
   "cell_type": "markdown",
   "id": "decreased-aside",
   "metadata": {},
   "source": [
    "## 4. Load Data"
   ]
  },
  {
   "cell_type": "code",
   "execution_count": 127,
   "id": "swedish-shelf",
   "metadata": {},
   "outputs": [],
   "source": [
    "import numpy as np\n",
    "import pandas as pd\n",
    "import matplotlib.pyplot as plt\n",
    "import seaborn as sns"
   ]
  },
  {
   "cell_type": "code",
   "execution_count": 128,
   "id": "demanding-slide",
   "metadata": {},
   "outputs": [
    {
     "data": {
      "text/html": [
       "<div>\n",
       "<style scoped>\n",
       "    .dataframe tbody tr th:only-of-type {\n",
       "        vertical-align: middle;\n",
       "    }\n",
       "\n",
       "    .dataframe tbody tr th {\n",
       "        vertical-align: top;\n",
       "    }\n",
       "\n",
       "    .dataframe thead th {\n",
       "        text-align: right;\n",
       "    }\n",
       "</style>\n",
       "<table border=\"1\" class=\"dataframe\">\n",
       "  <thead>\n",
       "    <tr style=\"text-align: right;\">\n",
       "      <th></th>\n",
       "      <th>Country name</th>\n",
       "      <th>year</th>\n",
       "      <th>Life Ladder</th>\n",
       "      <th>Log GDP per capita</th>\n",
       "      <th>Social support</th>\n",
       "      <th>Healthy life expectancy at birth</th>\n",
       "      <th>Freedom to make life choices</th>\n",
       "      <th>Generosity</th>\n",
       "      <th>Perceptions of corruption</th>\n",
       "      <th>Positive affect</th>\n",
       "      <th>Negative affect</th>\n",
       "    </tr>\n",
       "  </thead>\n",
       "  <tbody>\n",
       "    <tr>\n",
       "      <th>0</th>\n",
       "      <td>Afghanistan</td>\n",
       "      <td>2008</td>\n",
       "      <td>3.724</td>\n",
       "      <td>7.370</td>\n",
       "      <td>0.451</td>\n",
       "      <td>50.80</td>\n",
       "      <td>0.718</td>\n",
       "      <td>0.168</td>\n",
       "      <td>0.882</td>\n",
       "      <td>0.518</td>\n",
       "      <td>0.258</td>\n",
       "    </tr>\n",
       "    <tr>\n",
       "      <th>1</th>\n",
       "      <td>Afghanistan</td>\n",
       "      <td>2009</td>\n",
       "      <td>4.402</td>\n",
       "      <td>7.540</td>\n",
       "      <td>0.552</td>\n",
       "      <td>51.20</td>\n",
       "      <td>0.679</td>\n",
       "      <td>0.190</td>\n",
       "      <td>0.850</td>\n",
       "      <td>0.584</td>\n",
       "      <td>0.237</td>\n",
       "    </tr>\n",
       "    <tr>\n",
       "      <th>2</th>\n",
       "      <td>Afghanistan</td>\n",
       "      <td>2010</td>\n",
       "      <td>4.758</td>\n",
       "      <td>7.647</td>\n",
       "      <td>0.539</td>\n",
       "      <td>51.60</td>\n",
       "      <td>0.600</td>\n",
       "      <td>0.121</td>\n",
       "      <td>0.707</td>\n",
       "      <td>0.618</td>\n",
       "      <td>0.275</td>\n",
       "    </tr>\n",
       "    <tr>\n",
       "      <th>3</th>\n",
       "      <td>Afghanistan</td>\n",
       "      <td>2011</td>\n",
       "      <td>3.832</td>\n",
       "      <td>7.620</td>\n",
       "      <td>0.521</td>\n",
       "      <td>51.92</td>\n",
       "      <td>0.496</td>\n",
       "      <td>0.162</td>\n",
       "      <td>0.731</td>\n",
       "      <td>0.611</td>\n",
       "      <td>0.267</td>\n",
       "    </tr>\n",
       "    <tr>\n",
       "      <th>4</th>\n",
       "      <td>Afghanistan</td>\n",
       "      <td>2012</td>\n",
       "      <td>3.783</td>\n",
       "      <td>7.705</td>\n",
       "      <td>0.521</td>\n",
       "      <td>52.24</td>\n",
       "      <td>0.531</td>\n",
       "      <td>0.236</td>\n",
       "      <td>0.776</td>\n",
       "      <td>0.710</td>\n",
       "      <td>0.268</td>\n",
       "    </tr>\n",
       "  </tbody>\n",
       "</table>\n",
       "</div>"
      ],
      "text/plain": [
       "  Country name  year  Life Ladder  Log GDP per capita  Social support  \\\n",
       "0  Afghanistan  2008        3.724               7.370           0.451   \n",
       "1  Afghanistan  2009        4.402               7.540           0.552   \n",
       "2  Afghanistan  2010        4.758               7.647           0.539   \n",
       "3  Afghanistan  2011        3.832               7.620           0.521   \n",
       "4  Afghanistan  2012        3.783               7.705           0.521   \n",
       "\n",
       "   Healthy life expectancy at birth  Freedom to make life choices  Generosity  \\\n",
       "0                             50.80                         0.718       0.168   \n",
       "1                             51.20                         0.679       0.190   \n",
       "2                             51.60                         0.600       0.121   \n",
       "3                             51.92                         0.496       0.162   \n",
       "4                             52.24                         0.531       0.236   \n",
       "\n",
       "   Perceptions of corruption  Positive affect  Negative affect  \n",
       "0                      0.882            0.518            0.258  \n",
       "1                      0.850            0.584            0.237  \n",
       "2                      0.707            0.618            0.275  \n",
       "3                      0.731            0.611            0.267  \n",
       "4                      0.776            0.710            0.268  "
      ]
     },
     "execution_count": 128,
     "metadata": {},
     "output_type": "execute_result"
    }
   ],
   "source": [
    "#csv파일 불러오고 상단 5개 데이터 보기\n",
    "df = pd.read_csv('happiness_data/world-happiness-report.csv')\n",
    "df.head()"
   ]
  },
  {
   "cell_type": "markdown",
   "id": "thirty-notice",
   "metadata": {},
   "source": [
    "## 5. Description Data"
   ]
  },
  {
   "cell_type": "code",
   "execution_count": 129,
   "id": "imposed-anthony",
   "metadata": {},
   "outputs": [
    {
     "data": {
      "text/plain": [
       "(1949, 11)"
      ]
     },
     "execution_count": 129,
     "metadata": {},
     "output_type": "execute_result"
    }
   ],
   "source": [
    "df.shape"
   ]
  },
  {
   "cell_type": "code",
   "execution_count": 130,
   "id": "excited-consent",
   "metadata": {},
   "outputs": [
    {
     "name": "stdout",
     "output_type": "stream",
     "text": [
      "<class 'pandas.core.frame.DataFrame'>\n",
      "RangeIndex: 1949 entries, 0 to 1948\n",
      "Data columns (total 11 columns):\n",
      " #   Column                            Non-Null Count  Dtype  \n",
      "---  ------                            --------------  -----  \n",
      " 0   Country name                      1949 non-null   object \n",
      " 1   year                              1949 non-null   int64  \n",
      " 2   Life Ladder                       1949 non-null   float64\n",
      " 3   Log GDP per capita                1913 non-null   float64\n",
      " 4   Social support                    1936 non-null   float64\n",
      " 5   Healthy life expectancy at birth  1894 non-null   float64\n",
      " 6   Freedom to make life choices      1917 non-null   float64\n",
      " 7   Generosity                        1860 non-null   float64\n",
      " 8   Perceptions of corruption         1839 non-null   float64\n",
      " 9   Positive affect                   1927 non-null   float64\n",
      " 10  Negative affect                   1933 non-null   float64\n",
      "dtypes: float64(9), int64(1), object(1)\n",
      "memory usage: 167.6+ KB\n"
     ]
    }
   ],
   "source": [
    "df.info()"
   ]
  },
  {
   "cell_type": "code",
   "execution_count": 131,
   "id": "celtic-pottery",
   "metadata": {},
   "outputs": [
    {
     "data": {
      "text/plain": [
       "Country name                          0\n",
       "year                                  0\n",
       "Life Ladder                           0\n",
       "Log GDP per capita                   36\n",
       "Social support                       13\n",
       "Healthy life expectancy at birth     55\n",
       "Freedom to make life choices         32\n",
       "Generosity                           89\n",
       "Perceptions of corruption           110\n",
       "Positive affect                      22\n",
       "Negative affect                      16\n",
       "dtype: int64"
      ]
     },
     "execution_count": 131,
     "metadata": {},
     "output_type": "execute_result"
    }
   ],
   "source": [
    "#결측값 확인\n",
    "df.isna().sum()"
   ]
  },
  {
   "cell_type": "code",
   "execution_count": 132,
   "id": "particular-horizon",
   "metadata": {},
   "outputs": [
    {
     "data": {
      "text/plain": [
       "(2005, 2020)"
      ]
     },
     "execution_count": 132,
     "metadata": {},
     "output_type": "execute_result"
    }
   ],
   "source": [
    "#자료의 기간 확인\n",
    "min(df['year']), max(df['year'])"
   ]
  },
  {
   "cell_type": "code",
   "execution_count": 133,
   "id": "thousand-produce",
   "metadata": {},
   "outputs": [
    {
     "name": "stdout",
     "output_type": "stream",
     "text": [
      "<class 'pandas.core.frame.DataFrame'>\n",
      "RangeIndex: 1949 entries, 0 to 1948\n",
      "Data columns (total 11 columns):\n",
      " #   Column                            Non-Null Count  Dtype         \n",
      "---  ------                            --------------  -----         \n",
      " 0   Country name                      1949 non-null   object        \n",
      " 1   year                              1949 non-null   datetime64[ns]\n",
      " 2   Life Ladder                       1949 non-null   float64       \n",
      " 3   Log GDP per capita                1913 non-null   float64       \n",
      " 4   Social support                    1936 non-null   float64       \n",
      " 5   Healthy life expectancy at birth  1894 non-null   float64       \n",
      " 6   Freedom to make life choices      1917 non-null   float64       \n",
      " 7   Generosity                        1860 non-null   float64       \n",
      " 8   Perceptions of corruption         1839 non-null   float64       \n",
      " 9   Positive affect                   1927 non-null   float64       \n",
      " 10  Negative affect                   1933 non-null   float64       \n",
      "dtypes: datetime64[ns](1), float64(9), object(1)\n",
      "memory usage: 167.6+ KB\n"
     ]
    }
   ],
   "source": [
    "#datetime으로 연도별 정리\n",
    "df['year'] = pd.to_datetime(df['year'], format='%Y')\n",
    "df.info()"
   ]
  },
  {
   "cell_type": "code",
   "execution_count": 134,
   "id": "fleet-lawyer",
   "metadata": {},
   "outputs": [
    {
     "data": {
      "text/html": [
       "<div>\n",
       "<style scoped>\n",
       "    .dataframe tbody tr th:only-of-type {\n",
       "        vertical-align: middle;\n",
       "    }\n",
       "\n",
       "    .dataframe tbody tr th {\n",
       "        vertical-align: top;\n",
       "    }\n",
       "\n",
       "    .dataframe thead th {\n",
       "        text-align: right;\n",
       "    }\n",
       "</style>\n",
       "<table border=\"1\" class=\"dataframe\">\n",
       "  <thead>\n",
       "    <tr style=\"text-align: right;\">\n",
       "      <th></th>\n",
       "      <th>국가</th>\n",
       "      <th>연도</th>\n",
       "      <th>행복도</th>\n",
       "      <th>1인당GDP</th>\n",
       "      <th>사회복지</th>\n",
       "      <th>출생시의건강도</th>\n",
       "      <th>선택자유도</th>\n",
       "      <th>관대함</th>\n",
       "      <th>부패인식</th>\n",
       "      <th>긍정적영향</th>\n",
       "      <th>부정적영향</th>\n",
       "    </tr>\n",
       "  </thead>\n",
       "  <tbody>\n",
       "    <tr>\n",
       "      <th>0</th>\n",
       "      <td>Afghanistan</td>\n",
       "      <td>2008-01-01</td>\n",
       "      <td>3.724</td>\n",
       "      <td>7.370</td>\n",
       "      <td>0.451</td>\n",
       "      <td>50.80</td>\n",
       "      <td>0.718</td>\n",
       "      <td>0.168</td>\n",
       "      <td>0.882</td>\n",
       "      <td>0.518</td>\n",
       "      <td>0.258</td>\n",
       "    </tr>\n",
       "    <tr>\n",
       "      <th>1</th>\n",
       "      <td>Afghanistan</td>\n",
       "      <td>2009-01-01</td>\n",
       "      <td>4.402</td>\n",
       "      <td>7.540</td>\n",
       "      <td>0.552</td>\n",
       "      <td>51.20</td>\n",
       "      <td>0.679</td>\n",
       "      <td>0.190</td>\n",
       "      <td>0.850</td>\n",
       "      <td>0.584</td>\n",
       "      <td>0.237</td>\n",
       "    </tr>\n",
       "    <tr>\n",
       "      <th>2</th>\n",
       "      <td>Afghanistan</td>\n",
       "      <td>2010-01-01</td>\n",
       "      <td>4.758</td>\n",
       "      <td>7.647</td>\n",
       "      <td>0.539</td>\n",
       "      <td>51.60</td>\n",
       "      <td>0.600</td>\n",
       "      <td>0.121</td>\n",
       "      <td>0.707</td>\n",
       "      <td>0.618</td>\n",
       "      <td>0.275</td>\n",
       "    </tr>\n",
       "    <tr>\n",
       "      <th>3</th>\n",
       "      <td>Afghanistan</td>\n",
       "      <td>2011-01-01</td>\n",
       "      <td>3.832</td>\n",
       "      <td>7.620</td>\n",
       "      <td>0.521</td>\n",
       "      <td>51.92</td>\n",
       "      <td>0.496</td>\n",
       "      <td>0.162</td>\n",
       "      <td>0.731</td>\n",
       "      <td>0.611</td>\n",
       "      <td>0.267</td>\n",
       "    </tr>\n",
       "    <tr>\n",
       "      <th>4</th>\n",
       "      <td>Afghanistan</td>\n",
       "      <td>2012-01-01</td>\n",
       "      <td>3.783</td>\n",
       "      <td>7.705</td>\n",
       "      <td>0.521</td>\n",
       "      <td>52.24</td>\n",
       "      <td>0.531</td>\n",
       "      <td>0.236</td>\n",
       "      <td>0.776</td>\n",
       "      <td>0.710</td>\n",
       "      <td>0.268</td>\n",
       "    </tr>\n",
       "  </tbody>\n",
       "</table>\n",
       "</div>"
      ],
      "text/plain": [
       "            국가         연도    행복도  1인당GDP   사회복지  출생시의건강도  선택자유도    관대함   부패인식  \\\n",
       "0  Afghanistan 2008-01-01  3.724   7.370  0.451    50.80  0.718  0.168  0.882   \n",
       "1  Afghanistan 2009-01-01  4.402   7.540  0.552    51.20  0.679  0.190  0.850   \n",
       "2  Afghanistan 2010-01-01  4.758   7.647  0.539    51.60  0.600  0.121  0.707   \n",
       "3  Afghanistan 2011-01-01  3.832   7.620  0.521    51.92  0.496  0.162  0.731   \n",
       "4  Afghanistan 2012-01-01  3.783   7.705  0.521    52.24  0.531  0.236  0.776   \n",
       "\n",
       "   긍정적영향  부정적영향  \n",
       "0  0.518  0.258  \n",
       "1  0.584  0.237  \n",
       "2  0.618  0.275  \n",
       "3  0.611  0.267  \n",
       "4  0.710  0.268  "
      ]
     },
     "execution_count": 134,
     "metadata": {},
     "output_type": "execute_result"
    }
   ],
   "source": [
    "#칼럼 한글로 정리\n",
    "df.columns = ['국가', '연도', '행복도', '1인당GDP', '사회복지', '출생시의건강도', '선택자유도', '관대함', '부패인식', '긍정적영향', '부정적영향']\n",
    "df.head()"
   ]
  },
  {
   "cell_type": "markdown",
   "id": "speaking-imperial",
   "metadata": {},
   "source": [
    "## 6. EDA Analysis"
   ]
  },
  {
   "cell_type": "markdown",
   "id": "wooden-theology",
   "metadata": {},
   "source": [
    "### 1) 대한민국 행복도 수준"
   ]
  },
  {
   "cell_type": "code",
   "execution_count": 135,
   "id": "differential-mumbai",
   "metadata": {},
   "outputs": [
    {
     "data": {
      "text/html": [
       "<div>\n",
       "<style scoped>\n",
       "    .dataframe tbody tr th:only-of-type {\n",
       "        vertical-align: middle;\n",
       "    }\n",
       "\n",
       "    .dataframe tbody tr th {\n",
       "        vertical-align: top;\n",
       "    }\n",
       "\n",
       "    .dataframe thead th {\n",
       "        text-align: right;\n",
       "    }\n",
       "</style>\n",
       "<table border=\"1\" class=\"dataframe\">\n",
       "  <thead>\n",
       "    <tr style=\"text-align: right;\">\n",
       "      <th></th>\n",
       "      <th>국가</th>\n",
       "      <th>연도</th>\n",
       "      <th>행복도</th>\n",
       "      <th>1인당GDP</th>\n",
       "      <th>사회복지</th>\n",
       "      <th>출생시의건강도</th>\n",
       "      <th>선택자유도</th>\n",
       "      <th>관대함</th>\n",
       "      <th>부패인식</th>\n",
       "      <th>긍정적영향</th>\n",
       "      <th>부정적영향</th>\n",
       "    </tr>\n",
       "  </thead>\n",
       "  <tbody>\n",
       "    <tr>\n",
       "      <th>1581</th>\n",
       "      <td>South Korea</td>\n",
       "      <td>2006-01-01</td>\n",
       "      <td>5.332</td>\n",
       "      <td>10.310</td>\n",
       "      <td>0.775</td>\n",
       "      <td>70.2</td>\n",
       "      <td>0.715</td>\n",
       "      <td>-0.052</td>\n",
       "      <td>0.799</td>\n",
       "      <td>0.651</td>\n",
       "      <td>0.338</td>\n",
       "    </tr>\n",
       "    <tr>\n",
       "      <th>1582</th>\n",
       "      <td>South Korea</td>\n",
       "      <td>2007-01-01</td>\n",
       "      <td>5.767</td>\n",
       "      <td>10.361</td>\n",
       "      <td>0.827</td>\n",
       "      <td>70.5</td>\n",
       "      <td>0.656</td>\n",
       "      <td>-0.059</td>\n",
       "      <td>0.803</td>\n",
       "      <td>0.690</td>\n",
       "      <td>0.226</td>\n",
       "    </tr>\n",
       "    <tr>\n",
       "      <th>1583</th>\n",
       "      <td>South Korea</td>\n",
       "      <td>2008-01-01</td>\n",
       "      <td>5.390</td>\n",
       "      <td>10.383</td>\n",
       "      <td>0.754</td>\n",
       "      <td>70.8</td>\n",
       "      <td>0.524</td>\n",
       "      <td>-0.102</td>\n",
       "      <td>0.771</td>\n",
       "      <td>0.643</td>\n",
       "      <td>0.239</td>\n",
       "    </tr>\n",
       "    <tr>\n",
       "      <th>1584</th>\n",
       "      <td>South Korea</td>\n",
       "      <td>2009-01-01</td>\n",
       "      <td>5.648</td>\n",
       "      <td>10.386</td>\n",
       "      <td>0.811</td>\n",
       "      <td>71.1</td>\n",
       "      <td>0.600</td>\n",
       "      <td>-0.096</td>\n",
       "      <td>0.787</td>\n",
       "      <td>0.697</td>\n",
       "      <td>0.209</td>\n",
       "    </tr>\n",
       "    <tr>\n",
       "      <th>1585</th>\n",
       "      <td>South Korea</td>\n",
       "      <td>2010-01-01</td>\n",
       "      <td>6.116</td>\n",
       "      <td>10.447</td>\n",
       "      <td>0.816</td>\n",
       "      <td>71.4</td>\n",
       "      <td>0.677</td>\n",
       "      <td>-0.033</td>\n",
       "      <td>0.752</td>\n",
       "      <td>0.662</td>\n",
       "      <td>0.130</td>\n",
       "    </tr>\n",
       "  </tbody>\n",
       "</table>\n",
       "</div>"
      ],
      "text/plain": [
       "               국가         연도    행복도  1인당GDP   사회복지  출생시의건강도  선택자유도    관대함  \\\n",
       "1581  South Korea 2006-01-01  5.332  10.310  0.775     70.2  0.715 -0.052   \n",
       "1582  South Korea 2007-01-01  5.767  10.361  0.827     70.5  0.656 -0.059   \n",
       "1583  South Korea 2008-01-01  5.390  10.383  0.754     70.8  0.524 -0.102   \n",
       "1584  South Korea 2009-01-01  5.648  10.386  0.811     71.1  0.600 -0.096   \n",
       "1585  South Korea 2010-01-01  6.116  10.447  0.816     71.4  0.677 -0.033   \n",
       "\n",
       "       부패인식  긍정적영향  부정적영향  \n",
       "1581  0.799  0.651  0.338  \n",
       "1582  0.803  0.690  0.226  \n",
       "1583  0.771  0.643  0.239  \n",
       "1584  0.787  0.697  0.209  \n",
       "1585  0.752  0.662  0.130  "
      ]
     },
     "execution_count": 135,
     "metadata": {},
     "output_type": "execute_result"
    }
   ],
   "source": [
    "#한국의 자료만 존재하는 데이터프레임 새로 만들기\n",
    "koreaDF = df[df['국가'].str.contains('Korea')]\n",
    "koreaDF.head()"
   ]
  },
  {
   "cell_type": "code",
   "execution_count": 136,
   "id": "veterinary-wayne",
   "metadata": {},
   "outputs": [
    {
     "data": {
      "text/html": [
       "<div>\n",
       "<style scoped>\n",
       "    .dataframe tbody tr th:only-of-type {\n",
       "        vertical-align: middle;\n",
       "    }\n",
       "\n",
       "    .dataframe tbody tr th {\n",
       "        vertical-align: top;\n",
       "    }\n",
       "\n",
       "    .dataframe thead th {\n",
       "        text-align: right;\n",
       "    }\n",
       "</style>\n",
       "<table border=\"1\" class=\"dataframe\">\n",
       "  <thead>\n",
       "    <tr style=\"text-align: right;\">\n",
       "      <th></th>\n",
       "      <th>index</th>\n",
       "      <th>국가</th>\n",
       "      <th>연도</th>\n",
       "      <th>행복도</th>\n",
       "      <th>1인당GDP</th>\n",
       "      <th>사회복지</th>\n",
       "      <th>출생시의건강도</th>\n",
       "      <th>선택자유도</th>\n",
       "      <th>관대함</th>\n",
       "      <th>부패인식</th>\n",
       "      <th>긍정적영향</th>\n",
       "      <th>부정적영향</th>\n",
       "    </tr>\n",
       "  </thead>\n",
       "  <tbody>\n",
       "    <tr>\n",
       "      <th>0</th>\n",
       "      <td>1581</td>\n",
       "      <td>South Korea</td>\n",
       "      <td>2006-01-01</td>\n",
       "      <td>5.332</td>\n",
       "      <td>10.310</td>\n",
       "      <td>0.775</td>\n",
       "      <td>70.2</td>\n",
       "      <td>0.715</td>\n",
       "      <td>-0.052</td>\n",
       "      <td>0.799</td>\n",
       "      <td>0.651</td>\n",
       "      <td>0.338</td>\n",
       "    </tr>\n",
       "    <tr>\n",
       "      <th>1</th>\n",
       "      <td>1582</td>\n",
       "      <td>South Korea</td>\n",
       "      <td>2007-01-01</td>\n",
       "      <td>5.767</td>\n",
       "      <td>10.361</td>\n",
       "      <td>0.827</td>\n",
       "      <td>70.5</td>\n",
       "      <td>0.656</td>\n",
       "      <td>-0.059</td>\n",
       "      <td>0.803</td>\n",
       "      <td>0.690</td>\n",
       "      <td>0.226</td>\n",
       "    </tr>\n",
       "    <tr>\n",
       "      <th>2</th>\n",
       "      <td>1583</td>\n",
       "      <td>South Korea</td>\n",
       "      <td>2008-01-01</td>\n",
       "      <td>5.390</td>\n",
       "      <td>10.383</td>\n",
       "      <td>0.754</td>\n",
       "      <td>70.8</td>\n",
       "      <td>0.524</td>\n",
       "      <td>-0.102</td>\n",
       "      <td>0.771</td>\n",
       "      <td>0.643</td>\n",
       "      <td>0.239</td>\n",
       "    </tr>\n",
       "    <tr>\n",
       "      <th>3</th>\n",
       "      <td>1584</td>\n",
       "      <td>South Korea</td>\n",
       "      <td>2009-01-01</td>\n",
       "      <td>5.648</td>\n",
       "      <td>10.386</td>\n",
       "      <td>0.811</td>\n",
       "      <td>71.1</td>\n",
       "      <td>0.600</td>\n",
       "      <td>-0.096</td>\n",
       "      <td>0.787</td>\n",
       "      <td>0.697</td>\n",
       "      <td>0.209</td>\n",
       "    </tr>\n",
       "    <tr>\n",
       "      <th>4</th>\n",
       "      <td>1585</td>\n",
       "      <td>South Korea</td>\n",
       "      <td>2010-01-01</td>\n",
       "      <td>6.116</td>\n",
       "      <td>10.447</td>\n",
       "      <td>0.816</td>\n",
       "      <td>71.4</td>\n",
       "      <td>0.677</td>\n",
       "      <td>-0.033</td>\n",
       "      <td>0.752</td>\n",
       "      <td>0.662</td>\n",
       "      <td>0.130</td>\n",
       "    </tr>\n",
       "  </tbody>\n",
       "</table>\n",
       "</div>"
      ],
      "text/plain": [
       "   index           국가         연도    행복도  1인당GDP   사회복지  출생시의건강도  선택자유도    관대함  \\\n",
       "0   1581  South Korea 2006-01-01  5.332  10.310  0.775     70.2  0.715 -0.052   \n",
       "1   1582  South Korea 2007-01-01  5.767  10.361  0.827     70.5  0.656 -0.059   \n",
       "2   1583  South Korea 2008-01-01  5.390  10.383  0.754     70.8  0.524 -0.102   \n",
       "3   1584  South Korea 2009-01-01  5.648  10.386  0.811     71.1  0.600 -0.096   \n",
       "4   1585  South Korea 2010-01-01  6.116  10.447  0.816     71.4  0.677 -0.033   \n",
       "\n",
       "    부패인식  긍정적영향  부정적영향  \n",
       "0  0.799  0.651  0.338  \n",
       "1  0.803  0.690  0.226  \n",
       "2  0.771  0.643  0.239  \n",
       "3  0.787  0.697  0.209  \n",
       "4  0.752  0.662  0.130  "
      ]
     },
     "execution_count": 136,
     "metadata": {},
     "output_type": "execute_result"
    }
   ],
   "source": [
    "#행 번호 refresh\n",
    "koreaDF.reset_index(inplace=True)\n",
    "koreaDF.head()"
   ]
  },
  {
   "cell_type": "code",
   "execution_count": 1,
   "id": "powered-carpet",
   "metadata": {},
   "outputs": [],
   "source": [
    "#한글폰트 버그 해결\n",
    "from matplotlib import font_manager, rc\n",
    "font_path = \"./KoPubBatangMedium.ttf\"\n",
    "font_name = font_manager.FontProperties(fname=font_path).get_name()\n",
    "rc('font', family=font_name)"
   ]
  },
  {
   "cell_type": "code",
   "execution_count": 138,
   "id": "comparative-african",
   "metadata": {},
   "outputs": [
    {
     "data": {
      "text/plain": [
       "<matplotlib.legend.Legend at 0x1a2adf933c8>"
      ]
     },
     "execution_count": 138,
     "metadata": {},
     "output_type": "execute_result"
    },
    {
     "data": {
      "image/png": "[encoded data removed]",
      "text/plain": [
       "<Figure size 720x360 with 1 Axes>"
      ]
     },
     "metadata": {
      "needs_background": "light"
     },
     "output_type": "display_data"
    }
   ],
   "source": [
    "#꺾은선 그래프 그리기\n",
    "plt.figure(figsize=(10, 5))\n",
    "sns.lineplot(x='연도', y='행복도', data=koreaDF)\n",
    "sns.lineplot(x='연도', y='1인당GDP', data=koreaDF)\n",
    "sns.lineplot(x='연도', y='사회복지', data=koreaDF)\n",
    "sns.lineplot(x='연도', y='선택자유도', data=koreaDF)\n",
    "sns.lineplot(x='연도', y='관대함', data=koreaDF)\n",
    "sns.lineplot(x='연도', y='부패인식', data=koreaDF)\n",
    "sns.lineplot(x='연도', y='긍정적영향', data=koreaDF)\n",
    "sns.lineplot(x='연도', y='부정적영향', data=koreaDF)\n",
    "plt.legend(['행복도', '1인당GDP', '사회복지','선택자유도', '관대함', '부패인식', '긍정적영향', '부정적영향'])"
   ]
  },
  {
   "cell_type": "markdown",
   "id": "jewish-priest",
   "metadata": {},
   "source": [
    "### 2) 2020년 국가별 선택자유도(개인주의적 문화) 비교"
   ]
  },
  {
   "cell_type": "code",
   "execution_count": 139,
   "id": "favorite-style",
   "metadata": {},
   "outputs": [
    {
     "data": {
      "text/html": [
       "<div>\n",
       "<style scoped>\n",
       "    .dataframe tbody tr th:only-of-type {\n",
       "        vertical-align: middle;\n",
       "    }\n",
       "\n",
       "    .dataframe tbody tr th {\n",
       "        vertical-align: top;\n",
       "    }\n",
       "\n",
       "    .dataframe thead th {\n",
       "        text-align: right;\n",
       "    }\n",
       "</style>\n",
       "<table border=\"1\" class=\"dataframe\">\n",
       "  <thead>\n",
       "    <tr style=\"text-align: right;\">\n",
       "      <th></th>\n",
       "      <th>국가</th>\n",
       "      <th>연도</th>\n",
       "      <th>행복도</th>\n",
       "      <th>1인당GDP</th>\n",
       "      <th>사회복지</th>\n",
       "      <th>출생시의건강도</th>\n",
       "      <th>선택자유도</th>\n",
       "      <th>관대함</th>\n",
       "      <th>부패인식</th>\n",
       "      <th>긍정적영향</th>\n",
       "      <th>부정적영향</th>\n",
       "    </tr>\n",
       "  </thead>\n",
       "  <tbody>\n",
       "    <tr>\n",
       "      <th>24</th>\n",
       "      <td>Albania</td>\n",
       "      <td>2020-01-01</td>\n",
       "      <td>5.365</td>\n",
       "      <td>9.497</td>\n",
       "      <td>0.710</td>\n",
       "      <td>69.3</td>\n",
       "      <td>0.754</td>\n",
       "      <td>0.007</td>\n",
       "      <td>0.891</td>\n",
       "      <td>0.679</td>\n",
       "      <td>0.265</td>\n",
       "    </tr>\n",
       "    <tr>\n",
       "      <th>51</th>\n",
       "      <td>Argentina</td>\n",
       "      <td>2020-01-01</td>\n",
       "      <td>5.901</td>\n",
       "      <td>9.850</td>\n",
       "      <td>0.897</td>\n",
       "      <td>69.2</td>\n",
       "      <td>0.823</td>\n",
       "      <td>-0.122</td>\n",
       "      <td>0.816</td>\n",
       "      <td>0.764</td>\n",
       "      <td>0.342</td>\n",
       "    </tr>\n",
       "    <tr>\n",
       "      <th>79</th>\n",
       "      <td>Australia</td>\n",
       "      <td>2020-01-01</td>\n",
       "      <td>7.137</td>\n",
       "      <td>10.760</td>\n",
       "      <td>0.937</td>\n",
       "      <td>74.2</td>\n",
       "      <td>0.905</td>\n",
       "      <td>0.210</td>\n",
       "      <td>0.491</td>\n",
       "      <td>0.769</td>\n",
       "      <td>0.205</td>\n",
       "    </tr>\n",
       "    <tr>\n",
       "      <th>92</th>\n",
       "      <td>Austria</td>\n",
       "      <td>2020-01-01</td>\n",
       "      <td>7.213</td>\n",
       "      <td>10.851</td>\n",
       "      <td>0.925</td>\n",
       "      <td>73.6</td>\n",
       "      <td>0.912</td>\n",
       "      <td>0.011</td>\n",
       "      <td>0.464</td>\n",
       "      <td>0.769</td>\n",
       "      <td>0.206</td>\n",
       "    </tr>\n",
       "    <tr>\n",
       "      <th>117</th>\n",
       "      <td>Bahrain</td>\n",
       "      <td>2020-01-01</td>\n",
       "      <td>6.173</td>\n",
       "      <td>10.620</td>\n",
       "      <td>0.848</td>\n",
       "      <td>69.7</td>\n",
       "      <td>0.945</td>\n",
       "      <td>0.132</td>\n",
       "      <td>NaN</td>\n",
       "      <td>0.790</td>\n",
       "      <td>0.297</td>\n",
       "    </tr>\n",
       "  </tbody>\n",
       "</table>\n",
       "</div>"
      ],
      "text/plain": [
       "            국가         연도    행복도  1인당GDP   사회복지  출생시의건강도  선택자유도    관대함   부패인식  \\\n",
       "24     Albania 2020-01-01  5.365   9.497  0.710     69.3  0.754  0.007  0.891   \n",
       "51   Argentina 2020-01-01  5.901   9.850  0.897     69.2  0.823 -0.122  0.816   \n",
       "79   Australia 2020-01-01  7.137  10.760  0.937     74.2  0.905  0.210  0.491   \n",
       "92     Austria 2020-01-01  7.213  10.851  0.925     73.6  0.912  0.011  0.464   \n",
       "117    Bahrain 2020-01-01  6.173  10.620  0.848     69.7  0.945  0.132    NaN   \n",
       "\n",
       "     긍정적영향  부정적영향  \n",
       "24   0.679  0.265  \n",
       "51   0.764  0.342  \n",
       "79   0.769  0.205  \n",
       "92   0.769  0.206  \n",
       "117  0.790  0.297  "
      ]
     },
     "execution_count": 139,
     "metadata": {},
     "output_type": "execute_result"
    }
   ],
   "source": [
    "#가장 최근 연도의 자료만 존재하는 새로운 데이터 프레임 만들기\n",
    "latestDF = df[df['연도'] == max(df['연도'])]\n",
    "latestDF.head()"
   ]
  },
  {
   "cell_type": "code",
   "execution_count": 140,
   "id": "agreed-sleep",
   "metadata": {},
   "outputs": [
    {
     "data": {
      "image/png": "[encoded data removed]",
      "text/plain": [
       "<Figure size 1440x720 with 1 Axes>"
      ]
     },
     "metadata": {
      "needs_background": "light"
     },
     "output_type": "display_data"
    }
   ],
   "source": [
    "#새로운 데이터프레임 자료를 기반으로 선택자유도를 히스토그램으로 비교하기\n",
    "sns.histplot(latestDF.선택자유도, bins=16)\n",
    "plt.show()"
   ]
  },
  {
   "cell_type": "markdown",
   "id": "renewable-berlin",
   "metadata": {},
   "source": [
    "### 3) 전세계 행복도 순위"
   ]
  },
  {
   "cell_type": "code",
   "execution_count": 142,
   "id": "marked-vanilla",
   "metadata": {},
   "outputs": [
    {
     "data": {
      "text/html": [
       "<div>\n",
       "<style scoped>\n",
       "    .dataframe tbody tr th:only-of-type {\n",
       "        vertical-align: middle;\n",
       "    }\n",
       "\n",
       "    .dataframe tbody tr th {\n",
       "        vertical-align: top;\n",
       "    }\n",
       "\n",
       "    .dataframe thead th {\n",
       "        text-align: right;\n",
       "    }\n",
       "</style>\n",
       "<table border=\"1\" class=\"dataframe\">\n",
       "  <thead>\n",
       "    <tr style=\"text-align: right;\">\n",
       "      <th></th>\n",
       "      <th>국가</th>\n",
       "      <th>연도</th>\n",
       "      <th>행복도</th>\n",
       "      <th>1인당GDP</th>\n",
       "      <th>사회복지</th>\n",
       "      <th>출생시의건강도</th>\n",
       "      <th>선택자유도</th>\n",
       "      <th>관대함</th>\n",
       "      <th>부패인식</th>\n",
       "      <th>긍정적영향</th>\n",
       "      <th>부정적영향</th>\n",
       "    </tr>\n",
       "  </thead>\n",
       "  <tbody>\n",
       "    <tr>\n",
       "      <th>563</th>\n",
       "      <td>Finland</td>\n",
       "      <td>2020-01-01</td>\n",
       "      <td>7.889</td>\n",
       "      <td>10.750</td>\n",
       "      <td>0.962</td>\n",
       "      <td>72.1</td>\n",
       "      <td>0.962</td>\n",
       "      <td>-0.116</td>\n",
       "      <td>0.164</td>\n",
       "      <td>0.744</td>\n",
       "      <td>0.193</td>\n",
       "    </tr>\n",
       "    <tr>\n",
       "      <th>731</th>\n",
       "      <td>Iceland</td>\n",
       "      <td>2020-01-01</td>\n",
       "      <td>7.575</td>\n",
       "      <td>10.824</td>\n",
       "      <td>0.983</td>\n",
       "      <td>73.0</td>\n",
       "      <td>0.949</td>\n",
       "      <td>0.160</td>\n",
       "      <td>0.644</td>\n",
       "      <td>0.863</td>\n",
       "      <td>0.172</td>\n",
       "    </tr>\n",
       "    <tr>\n",
       "      <th>463</th>\n",
       "      <td>Denmark</td>\n",
       "      <td>2020-01-01</td>\n",
       "      <td>7.515</td>\n",
       "      <td>10.910</td>\n",
       "      <td>0.947</td>\n",
       "      <td>73.0</td>\n",
       "      <td>0.938</td>\n",
       "      <td>0.052</td>\n",
       "      <td>0.214</td>\n",
       "      <td>0.818</td>\n",
       "      <td>0.227</td>\n",
       "    </tr>\n",
       "    <tr>\n",
       "      <th>1661</th>\n",
       "      <td>Switzerland</td>\n",
       "      <td>2020-01-01</td>\n",
       "      <td>7.508</td>\n",
       "      <td>11.081</td>\n",
       "      <td>0.946</td>\n",
       "      <td>74.7</td>\n",
       "      <td>0.917</td>\n",
       "      <td>-0.064</td>\n",
       "      <td>0.280</td>\n",
       "      <td>0.769</td>\n",
       "      <td>0.193</td>\n",
       "    </tr>\n",
       "    <tr>\n",
       "      <th>1224</th>\n",
       "      <td>Netherlands</td>\n",
       "      <td>2020-01-01</td>\n",
       "      <td>7.504</td>\n",
       "      <td>10.901</td>\n",
       "      <td>0.944</td>\n",
       "      <td>72.5</td>\n",
       "      <td>0.935</td>\n",
       "      <td>0.151</td>\n",
       "      <td>0.281</td>\n",
       "      <td>0.784</td>\n",
       "      <td>0.247</td>\n",
       "    </tr>\n",
       "  </tbody>\n",
       "</table>\n",
       "</div>"
      ],
      "text/plain": [
       "               국가         연도    행복도  1인당GDP   사회복지  출생시의건강도  선택자유도    관대함  \\\n",
       "563       Finland 2020-01-01  7.889  10.750  0.962     72.1  0.962 -0.116   \n",
       "731       Iceland 2020-01-01  7.575  10.824  0.983     73.0  0.949  0.160   \n",
       "463       Denmark 2020-01-01  7.515  10.910  0.947     73.0  0.938  0.052   \n",
       "1661  Switzerland 2020-01-01  7.508  11.081  0.946     74.7  0.917 -0.064   \n",
       "1224  Netherlands 2020-01-01  7.504  10.901  0.944     72.5  0.935  0.151   \n",
       "\n",
       "       부패인식  긍정적영향  부정적영향  \n",
       "563   0.164  0.744  0.193  \n",
       "731   0.644  0.863  0.172  \n",
       "463   0.214  0.818  0.227  \n",
       "1661  0.280  0.769  0.193  \n",
       "1224  0.281  0.784  0.247  "
      ]
     },
     "execution_count": 142,
     "metadata": {},
     "output_type": "execute_result"
    }
   ],
   "source": [
    "#행복도 순으로 정렬된 새로운 데이터프레임 만들기\n",
    "sortedDF = latestDF.sort_values(by='행복도', ascending=False)\n",
    "sortedDF.head()"
   ]
  },
  {
   "cell_type": "code",
   "execution_count": 143,
   "id": "bulgarian-particle",
   "metadata": {},
   "outputs": [
    {
     "data": {
      "text/plain": [
       "<AxesSubplot:xlabel='국가', ylabel='행복도'>"
      ]
     },
     "execution_count": 143,
     "metadata": {},
     "output_type": "execute_result"
    },
    {
     "data": {
      "image/png": "[encoded data removed]",
      "text/plain": [
       "<Figure size 1440x720 with 1 Axes>"
      ]
     },
     "metadata": {
      "needs_background": "light"
     },
     "output_type": "display_data"
    }
   ],
   "source": [
    "#새로운 데이터프레임을 기반으로 행복도 순위로 2020년 전세계 행복도 순위 보기\n",
    "plt.xticks(rotation=45)\n",
    "plt.rcParams['figure.figsize'] = [20, 10] #크기 조절\n",
    "sns.barplot(x='국가', y='행복도', data=sortedDF.head(20))"
   ]
  }
 ],
 "metadata": {
  "kernelspec": {
   "display_name": "Python 3",
   "language": "python",
   "name": "python3"
  },
  "language_info": {
   "codemirror_mode": {
    "name": "ipython",
    "version": 3
   },
   "file_extension": ".py",
   "mimetype": "text/x-python",
   "name": "python",
   "nbconvert_exporter": "python",
   "pygments_lexer": "ipython3",
   "version": "3.7.10"
  }
 },
 "nbformat": 4,
 "nbformat_minor": 5
}
