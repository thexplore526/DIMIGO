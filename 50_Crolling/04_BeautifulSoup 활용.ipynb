{
 "cells": [
  {
   "cell_type": "markdown",
   "metadata": {},
   "source": [
    "# 4. BeautifulSoup 활용\n",
    "* 멜론사이트 크롤링하기\n",
    "* 노래제목, 가수명, 앨범명, 좋아요개수 추출"
   ]
  },
  {
   "cell_type": "code",
   "execution_count": 1,
   "metadata": {},
   "outputs": [],
   "source": [
    "import requests\n",
    "from bs4 import BeautifulSoup\n",
    "import pandas as pd"
   ]
  },
  {
   "cell_type": "code",
   "execution_count": 2,
   "metadata": {},
   "outputs": [
    {
     "data": {
      "text/plain": [
       "<Response [200]>"
      ]
     },
     "execution_count": 2,
     "metadata": {},
     "output_type": "execute_result"
    }
   ],
   "source": [
    "url = 'https://www.melon.com/chart/index.htm'\n",
    "\n",
    "headers = {\n",
    "    'user-agent' : 'Mozilla/5.0 (Windows NT 10.0; Win64; x64) AppleWebKit/537.36 (KHTML, like Gecko) Chrome/92.0.4515.107 Safari/537.36'\n",
    "}\n",
    "res = requests.get(url, headers = headers)\n",
    "res"
   ]
  },
  {
   "cell_type": "code",
   "execution_count": 3,
   "metadata": {},
   "outputs": [
    {
     "data": {
      "text/plain": [
       "'<!DOCTYPE html>\\r\\n<html lang=\"ko\">\\r\\n\\r\\n\\r\\n\\r\\n\\r\\n\\r\\n\\r\\n\\r\\n\\r\\n\\r\\n\\r\\n\\r\\n\\r\\n\\r\\n<head>\\r\\n\\t\\t\\r\\n\\t\\r\\n\\t\\r\\n\\t\\r\\n\\t\\r\\n\\t\\r\\n\\t\\r\\n\\t\\r\\n\\r\\n\\t<meta http-equiv=\"Content-Type\" content=\"text/html; charset=utf-8\"/>\\r\\n\\t<meta http-equiv=\"X-UA-Compatible\" content=\"IE=edge,chrome=1\" />\\r\\n\\t\\r\\n\\r\\n\\t\\r\\n\\r\\n\\t\\r\\n\\r\\n\\t<title>멜론차트>TOP100>멜론</title>\\r\\n\\t<meta name=\"keywor'"
      ]
     },
     "execution_count": 3,
     "metadata": {},
     "output_type": "execute_result"
    }
   ],
   "source": [
    "res.text[:300]"
   ]
  },
  {
   "cell_type": "code",
   "execution_count": 4,
   "metadata": {},
   "outputs": [],
   "source": [
    "soup = BeautifulSoup(res.text)"
   ]
  },
  {
   "cell_type": "markdown",
   "metadata": {},
   "source": [
    "# 노래 제목 추출"
   ]
  },
  {
   "cell_type": "code",
   "execution_count": 5,
   "metadata": {},
   "outputs": [
    {
     "name": "stdout",
     "output_type": "stream",
     "text": [
      "신호등\n",
      "STAY\n",
      "바라만 본다\n",
      "Next Level\n",
      "낙하 (with 아이유)\n",
      "Queendom\n",
      "Permission to Dance\n",
      "Weekend\n",
      "OHAYO MY NIGHT\n",
      "Butter\n",
      "DUMB DUMB\n",
      "좋아좋아\n",
      "헤픈 우연\n",
      "Peaches (Feat. Daniel Caesar & Giveon)\n",
      "Dynamite\n",
      "Bad Habits\n",
      "비와 당신\n",
      "이제 나만 믿어요\n",
      "Dun Dun Dance\n",
      "롤린 (Rollin')\n",
      "고백\n",
      "라일락\n",
      "다정히 내 이름을 부르면\n",
      "비가 오는 날엔 (2021)\n",
      "Celebrity\n",
      "치맛바람 (Chi Mat Ba Ram)\n",
      "Alcohol-Free\n",
      "안녕 (Hello)\n",
      "하루만 더\n",
      "ASAP\n",
      "사이렌 Remix (Feat. UNEDUCATED KID, Paul Blanco)\n",
      "Savage Love (Laxed - Siren Beat) (BTS Remix)\n",
      "별빛 같은 나의 사랑아\n",
      "작은 것들을 위한 시 (Boy With Luv) (Feat. Halsey)\n",
      "여전히 아름다운지\n",
      "가을 우체국 앞에서\n",
      "운전만해 (We Ride)\n",
      "HERO\n",
      "그대라는 사치\n",
      "봄날\n",
      "나를 아는 사람\n",
      "내 손을 잡아\n",
      "밝게 빛나는 별이 되어 비춰줄게\n",
      "다시 사랑한다면 (김필 Ver.)\n",
      "Life Goes On\n",
      "Off My Face\n",
      "상상더하기\n",
      "멜로디\n",
      "Timeless\n",
      "밤하늘의 별을(2020)\n",
      "Lovesick Girls\n",
      "끝사랑\n",
      "Bk Love\n",
      "어떻게 이별까지 사랑하겠어, 널 사랑하는 거지\n",
      "아로하\n",
      "잊었니\n",
      "추억은 만남보다 이별에 남아\n",
      "어푸 (Ah puh)\n",
      "비 오는 날 듣기 좋은 노래 (Feat. Colde)\n",
      "Blueming\n",
      "상상더하기\n",
      "Dolphin\n",
      "미워요\n",
      "잠이 오질 않네요\n",
      "에잇(Prod.&Feat. SUGA of BTS)\n",
      "사랑의 아픔 딛고\n",
      "슈퍼스타\n",
      "계단말고 엘리베이터\n",
      "이젠 잊기로 해요 (Drama Ver.)\n",
      "그날에 나는 맘이 편했을까\n",
      "취기를 빌려 (취향저격 그녀 X 산들)\n",
      "2002\n",
      "담아 갈게\n",
      "고백\n",
      "모든 날, 모든 순간 (Every day, Every Moment)\n",
      "LOVE DAY (2021) (바른연애 길잡이 X 양요섭, 정은지)\n",
      "라라라\n",
      "METEOR\n",
      "흔들리는 꽃들 속에서 네 샴푸향이 느껴진거야\n",
      "회상\n",
      "12:45 (Stripped)\n",
      "허리춤\n",
      "가까운 듯 먼 그대여\n",
      "목로주점\n",
      "오래된 노래\n",
      "사진을 보다가\n",
      "나랑 같이 걸을래 (바른연애 길잡이 X 적재)\n",
      "고백\n",
      "너의 번호를 누르고 (Prod. 영화처럼)\n",
      "VVS (Feat. JUSTHIS) (Prod. GroovyRoom)\n",
      "넌 좋은 사람\n",
      "어떻게 지내 (Prod. By VAN.C)\n",
      "Coin\n",
      "오늘도 빛나는 너에게 (To You My Light) (Feat.이라온)\n",
      "Memories\n",
      "ONLY\n",
      "사실 나는 (Feat.전건호)\n",
      "On The Ground\n",
      "나는 너 좋아\n",
      "내사람\n"
     ]
    }
   ],
   "source": [
    "# 1위부터 100위 까지 음악 제목\n",
    "title = []\n",
    "for i in range(0, 100):\n",
    "    soup_title = soup.select('.rank01 a')[i].get_text() # [n] 이때, n은 (음악 순위) - 1\n",
    "    print(soup_title)\n",
    "    title.append(soup_title)\n",
    "\n",
    "# 가수 이름\n",
    "songer_name = []\n",
    "songs = soup.select('.rank02')\n",
    "for song in songs:\n",
    "    songer_name.append(song.find('a').get_text())\n",
    "\n",
    "songs = soup.select('.ellipsis.rank03')\n",
    "album = []\n",
    "for song in songs:\n",
    "    album.append(song.find('a').get_text())"
   ]
  },
  {
   "cell_type": "markdown",
   "metadata": {},
   "source": [
    "# 노래 좋아요 수"
   ]
  },
  {
   "cell_type": "code",
   "execution_count": 6,
   "metadata": {},
   "outputs": [
    {
     "data": {
      "text/plain": [
       "<Response [200]>"
      ]
     },
     "execution_count": 6,
     "metadata": {},
     "output_type": "execute_result"
    }
   ],
   "source": [
    "# 노래 좋아요 수\n",
    "params = ''\n",
    "for i in soup.select('.button_etc.like'):\n",
    "    params += i['data-song-no'] + ','\n",
    "url = 'https://www.melon.com/commonlike/getSongLike.json?contsIds=' + params[:-1]\n",
    "\n",
    "headers = {\n",
    "    'user-agent' : 'Mozilla/5.0 (Windows NT 10.0; Win64; x64) AppleWebKit/537.36 (KHTML, like Gecko) Chrome/92.0.4515.107 Safari/537.36'\n",
    "}\n",
    "\n",
    "res = requests.get(url, headers = headers)\n",
    "res"
   ]
  },
  {
   "cell_type": "code",
   "execution_count": 7,
   "metadata": {},
   "outputs": [],
   "source": [
    "like = []\n",
    "l = res.json()['contsLike']\n",
    "\n",
    "for i in l:\n",
    "    like.append(i['SUMMCNT'])\n",
    "# like"
   ]
  },
  {
   "cell_type": "code",
   "execution_count": 8,
   "metadata": {},
   "outputs": [
    {
     "data": {
      "text/html": [
       "<div>\n",
       "<style scoped>\n",
       "    .dataframe tbody tr th:only-of-type {\n",
       "        vertical-align: middle;\n",
       "    }\n",
       "\n",
       "    .dataframe tbody tr th {\n",
       "        vertical-align: top;\n",
       "    }\n",
       "\n",
       "    .dataframe thead th {\n",
       "        text-align: right;\n",
       "    }\n",
       "</style>\n",
       "<table border=\"1\" class=\"dataframe\">\n",
       "  <thead>\n",
       "    <tr style=\"text-align: right;\">\n",
       "      <th></th>\n",
       "      <th>title</th>\n",
       "      <th>singer</th>\n",
       "      <th>album</th>\n",
       "      <th>like</th>\n",
       "    </tr>\n",
       "  </thead>\n",
       "  <tbody>\n",
       "    <tr>\n",
       "      <th>0</th>\n",
       "      <td>신호등</td>\n",
       "      <td>이무진</td>\n",
       "      <td>신호등</td>\n",
       "      <td>190051</td>\n",
       "    </tr>\n",
       "    <tr>\n",
       "      <th>1</th>\n",
       "      <td>STAY</td>\n",
       "      <td>The Kid LAROI</td>\n",
       "      <td>Stay</td>\n",
       "      <td>90841</td>\n",
       "    </tr>\n",
       "    <tr>\n",
       "      <th>2</th>\n",
       "      <td>바라만 본다</td>\n",
       "      <td>MSG워너비(M.O.M)</td>\n",
       "      <td>MSG워너비 1집</td>\n",
       "      <td>147876</td>\n",
       "    </tr>\n",
       "    <tr>\n",
       "      <th>3</th>\n",
       "      <td>Next Level</td>\n",
       "      <td>aespa</td>\n",
       "      <td>Next Level</td>\n",
       "      <td>195063</td>\n",
       "    </tr>\n",
       "    <tr>\n",
       "      <th>4</th>\n",
       "      <td>낙하 (with 아이유)</td>\n",
       "      <td>AKMU (악뮤)</td>\n",
       "      <td>NEXT EPISODE</td>\n",
       "      <td>104256</td>\n",
       "    </tr>\n",
       "    <tr>\n",
       "      <th>...</th>\n",
       "      <td>...</td>\n",
       "      <td>...</td>\n",
       "      <td>...</td>\n",
       "      <td>...</td>\n",
       "    </tr>\n",
       "    <tr>\n",
       "      <th>95</th>\n",
       "      <td>ONLY</td>\n",
       "      <td>이하이</td>\n",
       "      <td>ONLY</td>\n",
       "      <td>10523</td>\n",
       "    </tr>\n",
       "    <tr>\n",
       "      <th>96</th>\n",
       "      <td>사실 나는 (Feat.전건호)</td>\n",
       "      <td>경서예지</td>\n",
       "      <td>사실 나는</td>\n",
       "      <td>80945</td>\n",
       "    </tr>\n",
       "    <tr>\n",
       "      <th>97</th>\n",
       "      <td>On The Ground</td>\n",
       "      <td>로제 (ROSÉ)</td>\n",
       "      <td>R</td>\n",
       "      <td>139235</td>\n",
       "    </tr>\n",
       "    <tr>\n",
       "      <th>98</th>\n",
       "      <td>나는 너 좋아</td>\n",
       "      <td>장범준</td>\n",
       "      <td>슬기로운 의사생활 시즌2 OST Part 3</td>\n",
       "      <td>19247</td>\n",
       "    </tr>\n",
       "    <tr>\n",
       "      <th>99</th>\n",
       "      <td>내사람</td>\n",
       "      <td>SG 워너비</td>\n",
       "      <td>The Precious History</td>\n",
       "      <td>69471</td>\n",
       "    </tr>\n",
       "  </tbody>\n",
       "</table>\n",
       "<p>100 rows × 4 columns</p>\n",
       "</div>"
      ],
      "text/plain": [
       "               title         singer                     album    like\n",
       "0                신호등            이무진                       신호등  190051\n",
       "1               STAY  The Kid LAROI                      Stay   90841\n",
       "2             바라만 본다  MSG워너비(M.O.M)                 MSG워너비 1집  147876\n",
       "3         Next Level          aespa                Next Level  195063\n",
       "4      낙하 (with 아이유)      AKMU (악뮤)              NEXT EPISODE  104256\n",
       "..               ...            ...                       ...     ...\n",
       "95              ONLY            이하이                      ONLY   10523\n",
       "96  사실 나는 (Feat.전건호)           경서예지                     사실 나는   80945\n",
       "97     On The Ground      로제 (ROSÉ)                         R  139235\n",
       "98           나는 너 좋아            장범준  슬기로운 의사생활 시즌2 OST Part 3   19247\n",
       "99               내사람         SG 워너비      The Precious History   69471\n",
       "\n",
       "[100 rows x 4 columns]"
      ]
     },
     "execution_count": 8,
     "metadata": {},
     "output_type": "execute_result"
    }
   ],
   "source": [
    "# 제목, 가수, 앨범, 좋아요로 dataframe 생성\n",
    "df_data = {\n",
    "    'title' : title,\n",
    "    'singer' : songer_name,\n",
    "    'album' : album,\n",
    "    'like' : like,\n",
    "}\n",
    "df = pd.DataFrame(data=df_data)\n",
    "df"
   ]
  },
  {
   "cell_type": "code",
   "execution_count": null,
   "metadata": {},
   "outputs": [],
   "source": []
  },
  {
   "cell_type": "code",
   "execution_count": null,
   "metadata": {},
   "outputs": [],
   "source": []
  },
  {
   "cell_type": "code",
   "execution_count": null,
   "metadata": {},
   "outputs": [],
   "source": []
  }
 ],
 "metadata": {
  "kernelspec": {
   "display_name": "Python 3",
   "language": "python",
   "name": "python3"
  },
  "language_info": {
   "codemirror_mode": {
    "name": "ipython",
    "version": 3
   },
   "file_extension": ".py",
   "mimetype": "text/x-python",
   "name": "python",
   "nbconvert_exporter": "python",
   "pygments_lexer": "ipython3",
   "version": "3.7.10"
  }
 },
 "nbformat": 4,
 "nbformat_minor": 4
}
