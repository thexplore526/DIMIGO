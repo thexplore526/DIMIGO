{
 "cells": [
  {
   "cell_type": "markdown",
   "id": "peripheral-manchester",
   "metadata": {},
   "source": [
    "# 피아노 연습실 찾기"
   ]
  },
  {
   "cell_type": "markdown",
   "id": "raised-leave",
   "metadata": {},
   "source": [
    "* 피아노 연주하길 좋아하지만 집에서는 층간소음 때문에 치기 쉽지 않다. 때문에 집 근처 연습실을 찾곤 한다. \n",
    "* 피아노 연습실을 찾아주는 옴니스 피아노라는 사이트에서 웹크롤링을 하기로 결정하였다."
   ]
  },
  {
   "cell_type": "markdown",
   "id": "ideal-biodiversity",
   "metadata": {},
   "source": [
    "## 대상 사이트"
   ]
  },
  {
   "cell_type": "markdown",
   "id": "comic-venue",
   "metadata": {},
   "source": [
    "* 옴니스 피아노 : https://omnispiano.com"
   ]
  },
  {
   "cell_type": "markdown",
   "id": "challenging-magnitude",
   "metadata": {},
   "source": [
    "## 옴니스피아노에서 원하는 장소별로 피아노 연습실 찾기"
   ]
  },
  {
   "cell_type": "markdown",
   "id": "realistic-accountability",
   "metadata": {},
   "source": [
    "+ requests\n",
    "+ BeautifulSoup"
   ]
  },
  {
   "cell_type": "code",
   "execution_count": 2,
   "id": "theoretical-standard",
   "metadata": {},
   "outputs": [],
   "source": [
    "import requests\n",
    "from bs4 import BeautifulSoup"
   ]
  },
  {
   "cell_type": "code",
   "execution_count": 10,
   "id": "hungry-calculation",
   "metadata": {},
   "outputs": [
    {
     "name": "stdin",
     "output_type": "stream",
     "text": [
      "원하시는 장소(지역명)를 입력해주세요 ex:군포) :  영통\n"
     ]
    },
    {
     "data": {
      "text/plain": [
       "<Response [200]>"
      ]
     },
     "execution_count": 10,
     "metadata": {},
     "output_type": "execute_result"
    }
   ],
   "source": [
    "# 입력받은 지역 주변 피아노 연습실 크롤링\n",
    "place = input(\"원하시는 장소(지역명)를 입력해주세요 ex:군포) : \")\n",
    "url = 'https://omnispiano.com/service/rooms/?search='\n",
    "res = requests.get(url+place)\n",
    "res # <Response [200]>"
   ]
  },
  {
   "cell_type": "code",
   "execution_count": 11,
   "id": "complicated-arizona",
   "metadata": {},
   "outputs": [],
   "source": [
    "soup = BeautifulSoup(res.text)"
   ]
  },
  {
   "cell_type": "code",
   "execution_count": 12,
   "id": "magnetic-telling",
   "metadata": {},
   "outputs": [
    {
     "data": {
      "text/plain": [
       "['아카이브아트홀',\n",
       " '제이앤지뮤직',\n",
       " '안나피아노',\n",
       " '너울음악연습실',\n",
       " '이음스튜디오',\n",
       " '쏘클래식',\n",
       " '제이뮤직스튜디오',\n",
       " '새연세음악학원']"
      ]
     },
     "execution_count": 12,
     "metadata": {},
     "output_type": "execute_result"
    }
   ],
   "source": [
    "# 입력받은 지역의 피아노 연습실 이름 가져오기\n",
    "# 입력한 장소 주변에 피아노 연습실이 없으면 결과 값이 없을 수 있음\n",
    "soup_len = len(soup.select('div.row.mb-5 > div')) \n",
    "titles = []\n",
    "for i in range(1, soup_len+1):\n",
    "    titles.append(soup.select_one('div.row.mb-5 > div:nth-child({}) h6'.format(i)).get_text())\n",
    "titles"
   ]
  },
  {
   "cell_type": "code",
   "execution_count": 13,
   "id": "entire-midnight",
   "metadata": {},
   "outputs": [
    {
     "data": {
      "text/plain": [
       "['15000원/시간',\n",
       " '5000원/시간',\n",
       " '15000원/시간',\n",
       " '6000원/시간',\n",
       " '8000원/시간',\n",
       " '8000원/시간',\n",
       " '6000원/시간',\n",
       " '6000원/시간']"
      ]
     },
     "execution_count": 13,
     "metadata": {},
     "output_type": "execute_result"
    }
   ],
   "source": [
    "# 입력받은 지역의 피아노 연습실 시간당 가격 가져오기\n",
    "# 입력한 장소 주변에 피아노 연습실이 없으면 결과 값이 없을 수 있음\n",
    "soup_len = len(soup.select('div.row.mb-5 > div')) \n",
    "prices = []\n",
    "for i in range(1, soup_len+1):\n",
    "    prices.append(soup.select_one('div.row.mb-5 > div:nth-child({}) h5 strong'.format(i)).get_text()+'원/시간')\n",
    "prices"
   ]
  },
  {
   "cell_type": "code",
   "execution_count": 14,
   "id": "second-strain",
   "metadata": {},
   "outputs": [
    {
     "data": {
      "text/plain": [
       "['경기도 수원시 영통구',\n",
       " '경기도 수원시 영통구',\n",
       " '경기도 수원시 영통구',\n",
       " '경기도 수원시 영통구',\n",
       " '경기도 수원시 영통구',\n",
       " '경기도 수원시 영통구',\n",
       " '경기도 수원시 영통구',\n",
       " '경기도 수원시 영통구']"
      ]
     },
     "execution_count": 14,
     "metadata": {},
     "output_type": "execute_result"
    }
   ],
   "source": [
    "# 입력받은 지역의 피아노 연습실 정확한 장소 가져오기\n",
    "# 입력한 장소 주변에 피아노 연습실이 없으면 결과 값이 없을 수 있음\n",
    "soup_len = len(soup.select('div.row.mb-5 > div')) \n",
    "place = []\n",
    "for i in range(1, soup_len+1):\n",
    "    place.append(soup.select_one('div.row.mb-5 > div:nth-child({}) div span.badge-light'.format(2)).get_text())\n",
    "place"
   ]
  },
  {
   "cell_type": "code",
   "execution_count": 15,
   "id": "photographic-dayton",
   "metadata": {},
   "outputs": [
    {
     "data": {
      "text/html": [
       "<div>\n",
       "<style scoped>\n",
       "    .dataframe tbody tr th:only-of-type {\n",
       "        vertical-align: middle;\n",
       "    }\n",
       "\n",
       "    .dataframe tbody tr th {\n",
       "        vertical-align: top;\n",
       "    }\n",
       "\n",
       "    .dataframe thead th {\n",
       "        text-align: right;\n",
       "    }\n",
       "</style>\n",
       "<table border=\"1\" class=\"dataframe\">\n",
       "  <thead>\n",
       "    <tr style=\"text-align: right;\">\n",
       "      <th></th>\n",
       "      <th>Place</th>\n",
       "      <th>Title</th>\n",
       "      <th>Price</th>\n",
       "    </tr>\n",
       "  </thead>\n",
       "  <tbody>\n",
       "    <tr>\n",
       "      <th>1</th>\n",
       "      <td>경기도 수원시 영통구</td>\n",
       "      <td>아카이브아트홀</td>\n",
       "      <td>15000원/시간</td>\n",
       "    </tr>\n",
       "    <tr>\n",
       "      <th>2</th>\n",
       "      <td>경기도 수원시 영통구</td>\n",
       "      <td>제이앤지뮤직</td>\n",
       "      <td>5000원/시간</td>\n",
       "    </tr>\n",
       "    <tr>\n",
       "      <th>3</th>\n",
       "      <td>경기도 수원시 영통구</td>\n",
       "      <td>안나피아노</td>\n",
       "      <td>15000원/시간</td>\n",
       "    </tr>\n",
       "    <tr>\n",
       "      <th>4</th>\n",
       "      <td>경기도 수원시 영통구</td>\n",
       "      <td>너울음악연습실</td>\n",
       "      <td>6000원/시간</td>\n",
       "    </tr>\n",
       "    <tr>\n",
       "      <th>5</th>\n",
       "      <td>경기도 수원시 영통구</td>\n",
       "      <td>이음스튜디오</td>\n",
       "      <td>8000원/시간</td>\n",
       "    </tr>\n",
       "    <tr>\n",
       "      <th>6</th>\n",
       "      <td>경기도 수원시 영통구</td>\n",
       "      <td>쏘클래식</td>\n",
       "      <td>8000원/시간</td>\n",
       "    </tr>\n",
       "    <tr>\n",
       "      <th>7</th>\n",
       "      <td>경기도 수원시 영통구</td>\n",
       "      <td>제이뮤직스튜디오</td>\n",
       "      <td>6000원/시간</td>\n",
       "    </tr>\n",
       "    <tr>\n",
       "      <th>8</th>\n",
       "      <td>경기도 수원시 영통구</td>\n",
       "      <td>새연세음악학원</td>\n",
       "      <td>6000원/시간</td>\n",
       "    </tr>\n",
       "  </tbody>\n",
       "</table>\n",
       "</div>"
      ],
      "text/plain": [
       "         Place     Title      Price\n",
       "1  경기도 수원시 영통구   아카이브아트홀  15000원/시간\n",
       "2  경기도 수원시 영통구    제이앤지뮤직   5000원/시간\n",
       "3  경기도 수원시 영통구     안나피아노  15000원/시간\n",
       "4  경기도 수원시 영통구   너울음악연습실   6000원/시간\n",
       "5  경기도 수원시 영통구    이음스튜디오   8000원/시간\n",
       "6  경기도 수원시 영통구      쏘클래식   8000원/시간\n",
       "7  경기도 수원시 영통구  제이뮤직스튜디오   6000원/시간\n",
       "8  경기도 수원시 영통구   새연세음악학원   6000원/시간"
      ]
     },
     "execution_count": 15,
     "metadata": {},
     "output_type": "execute_result"
    }
   ],
   "source": [
    "import pandas as pd\n",
    "df_data = {\n",
    "    'Place' : place,\n",
    "    'Title' : titles,\n",
    "    'Price' : prices\n",
    "}\n",
    "df = pd.DataFrame(data = df_data)\n",
    "df.index += 1\n",
    "df"
   ]
  },
  {
   "cell_type": "markdown",
   "id": "thirty-neighbor",
   "metadata": {},
   "source": [
    "## 데이터 프레임 출력하기"
   ]
  }
 ],
 "metadata": {
  "kernelspec": {
   "display_name": "Python 3",
   "language": "python",
   "name": "python3"
  },
  "language_info": {
   "codemirror_mode": {
    "name": "ipython",
    "version": 3
   },
   "file_extension": ".py",
   "mimetype": "text/x-python",
   "name": "python",
   "nbconvert_exporter": "python",
   "pygments_lexer": "ipython3",
   "version": "3.7.10"
  }
 },
 "nbformat": 4,
 "nbformat_minor": 5
}
