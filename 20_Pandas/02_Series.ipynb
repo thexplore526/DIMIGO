{
 "cells": [
  {
   "cell_type": "markdown",
   "id": "center-software",
   "metadata": {},
   "source": [
    "# 2. Series"
   ]
  },
  {
   "cell_type": "code",
   "execution_count": 2,
   "id": "ultimate-suite",
   "metadata": {},
   "outputs": [],
   "source": [
    "import pandas as pd\n",
    "import numpy as np  # when you use pandas, it is likely to use numpy together, so it is encouraged to import with numpy."
   ]
  },
  {
   "cell_type": "markdown",
   "id": "atlantic-regulation",
   "metadata": {},
   "source": [
    "## 2-1. To Generate Series\n",
    "* It is similar to NumPy's one-dimensional array - that one column in Excel.\n",
    "* **Series** = `data of one-dimensional array + row index` (In this case, data type is ndarray)"
   ]
  },
  {
   "cell_type": "markdown",
   "id": "selective-acquisition",
   "metadata": {},
   "source": [
    "### 1) assign only value"
   ]
  },
  {
   "cell_type": "code",
   "execution_count": 3,
   "id": "photographic-piece",
   "metadata": {},
   "outputs": [
    {
     "data": {
      "text/plain": [
       "0    1\n",
       "1    2\n",
       "2    3\n",
       "3    4\n",
       "dtype: int64"
      ]
     },
     "execution_count": 3,
     "metadata": {},
     "output_type": "execute_result"
    }
   ],
   "source": [
    "# if you don't particularly assign index, the index which starts with '0' is gvien.\n",
    "s = pd.Series([1, 2, 3, 4])\n",
    "s"
   ]
  },
  {
   "cell_type": "code",
   "execution_count": 4,
   "id": "developed-carpet",
   "metadata": {},
   "outputs": [
    {
     "data": {
      "text/plain": [
       "pandas.core.series.Series"
      ]
     },
     "execution_count": 4,
     "metadata": {},
     "output_type": "execute_result"
    }
   ],
   "source": [
    "type(s)"
   ]
  },
  {
   "cell_type": "code",
   "execution_count": 5,
   "id": "finnish-reminder",
   "metadata": {},
   "outputs": [
    {
     "data": {
      "text/plain": [
       "(4,)"
      ]
     },
     "execution_count": 5,
     "metadata": {},
     "output_type": "execute_result"
    }
   ],
   "source": [
    "s.shape # attribute"
   ]
  },
  {
   "cell_type": "code",
   "execution_count": 6,
   "id": "boolean-costume",
   "metadata": {},
   "outputs": [
    {
     "data": {
      "text/plain": [
       "RangeIndex(start=0, stop=4, step=1)"
      ]
     },
     "execution_count": 6,
     "metadata": {},
     "output_type": "execute_result"
    }
   ],
   "source": [
    "s.index # attribute"
   ]
  },
  {
   "cell_type": "code",
   "execution_count": 7,
   "id": "corresponding-girlfriend",
   "metadata": {},
   "outputs": [
    {
     "data": {
      "text/plain": [
       "array([1, 2, 3, 4], dtype=int64)"
      ]
     },
     "execution_count": 7,
     "metadata": {},
     "output_type": "execute_result"
    }
   ],
   "source": [
    "s.values"
   ]
  },
  {
   "cell_type": "code",
   "execution_count": 8,
   "id": "spatial-greenhouse",
   "metadata": {},
   "outputs": [
    {
     "data": {
      "text/plain": [
       "numpy.ndarray"
      ]
     },
     "execution_count": 8,
     "metadata": {},
     "output_type": "execute_result"
    }
   ],
   "source": [
    "type(s.values) # we can notice that they use numpy too internal."
   ]
  },
  {
   "cell_type": "code",
   "execution_count": 9,
   "id": "encouraging-indiana",
   "metadata": {},
   "outputs": [
    {
     "data": {
      "text/plain": [
       "0    1.0\n",
       "1    2.0\n",
       "2    3.0\n",
       "3    4.0\n",
       "dtype: float64"
      ]
     },
     "execution_count": 9,
     "metadata": {},
     "output_type": "execute_result"
    }
   ],
   "source": [
    "# assign dtype\n",
    "s2 = pd.Series([1, 2, 3, 4], dtype=float)\n",
    "s2"
   ]
  },
  {
   "cell_type": "code",
   "execution_count": 10,
   "id": "academic-novel",
   "metadata": {},
   "outputs": [
    {
     "data": {
      "text/plain": [
       "0    1.0\n",
       "1    2.0\n",
       "2    3.0\n",
       "3    4.0\n",
       "dtype: float64"
      ]
     },
     "execution_count": 10,
     "metadata": {},
     "output_type": "execute_result"
    }
   ],
   "source": [
    "s = pd.Series(np.array([1, 2, 3, 4]), dtype=float)\n",
    "s\n",
    "# you can make Series with 'np.array' but don't do that inconvenient condunt."
   ]
  },
  {
   "cell_type": "code",
   "execution_count": 11,
   "id": "southwest-litigation",
   "metadata": {},
   "outputs": [
    {
     "data": {
      "text/plain": [
       "0     1\n",
       "1     2\n",
       "2     3\n",
       "3     4\n",
       "4     5\n",
       "5     6\n",
       "6     7\n",
       "7     8\n",
       "8     9\n",
       "9    10\n",
       "dtype: int32"
      ]
     },
     "execution_count": 11,
     "metadata": {},
     "output_type": "execute_result"
    }
   ],
   "source": [
    "# make Series with range in 1~10\n",
    "pd.Series(np.arange(1, 11))"
   ]
  },
  {
   "cell_type": "markdown",
   "id": "closing-astrology",
   "metadata": {},
   "source": [
    "### 2) give value and index together"
   ]
  },
  {
   "cell_type": "code",
   "execution_count": 12,
   "id": "together-strip",
   "metadata": {},
   "outputs": [
    {
     "data": {
      "text/plain": [
       "1    10\n",
       "2    20\n",
       "3    30\n",
       "4    40\n",
       "dtype: int64"
      ]
     },
     "execution_count": 12,
     "metadata": {},
     "output_type": "execute_result"
    }
   ],
   "source": [
    "index = [1, 2, 3, 4]\n",
    "s = pd.Series([10, 20, 30, 40], index=index) #index=index is python's grammer. It is giving out of parameter(I will insert data in data)\n",
    "s"
   ]
  },
  {
   "cell_type": "code",
   "execution_count": 13,
   "id": "aware-carroll",
   "metadata": {},
   "outputs": [
    {
     "data": {
      "text/plain": [
       "치킨     16000\n",
       "탕수육    18000\n",
       "곱창     25000\n",
       "선지국    10000\n",
       "dtype: int64"
      ]
     },
     "execution_count": 13,
     "metadata": {},
     "output_type": "execute_result"
    }
   ],
   "source": [
    "index = ['치킨', '탕수육', '곱창', '선지국']\n",
    "s = pd.Series([16000, 18000, 25000, 10000], index=index)\n",
    "s"
   ]
  },
  {
   "cell_type": "markdown",
   "id": "motivated-promise",
   "metadata": {},
   "source": [
    "It is also called `index label` if index's vlaue is strings like above.  \n",
    "Thus, you can give not only number but also strings giving index."
   ]
  },
  {
   "cell_type": "code",
   "execution_count": 14,
   "id": "driven-adjustment",
   "metadata": {},
   "outputs": [
    {
     "data": {
      "text/plain": [
       "Index(['치킨', '탕수육', '곱창', '선지국'], dtype='object')"
      ]
     },
     "execution_count": 14,
     "metadata": {},
     "output_type": "execute_result"
    }
   ],
   "source": [
    "s.index"
   ]
  },
  {
   "cell_type": "code",
   "execution_count": 15,
   "id": "rapid-investigation",
   "metadata": {},
   "outputs": [
    {
     "data": {
      "text/plain": [
       "array([16000, 18000, 25000, 10000], dtype=int64)"
      ]
     },
     "execution_count": 15,
     "metadata": {},
     "output_type": "execute_result"
    }
   ],
   "source": [
    "s.values"
   ]
  },
  {
   "cell_type": "markdown",
   "id": "figured-corner",
   "metadata": {},
   "source": [
    "### 3) Make with Dictionary Form"
   ]
  },
  {
   "cell_type": "code",
   "execution_count": 16,
   "id": "touched-japanese",
   "metadata": {},
   "outputs": [
    {
     "data": {
      "text/plain": [
       "치킨     16000\n",
       "탕수육    18000\n",
       "곱창     20000\n",
       "선지국    10000\n",
       "dtype: int64"
      ]
     },
     "execution_count": 16,
     "metadata": {},
     "output_type": "execute_result"
    }
   ],
   "source": [
    "s = pd.Series({'치킨' : 16000, '탕수육' : 18000, '곱창' : 20000, '선지국' : 10000})\n",
    "s"
   ]
  },
  {
   "cell_type": "code",
   "execution_count": 17,
   "id": "minute-recovery",
   "metadata": {},
   "outputs": [
    {
     "data": {
      "text/plain": [
       "치킨     16000\n",
       "탕수육    18000\n",
       "곱창     20000\n",
       "선지국    10000\n",
       "Name: Menu, dtype: int64"
      ]
     },
     "execution_count": 17,
     "metadata": {},
     "output_type": "execute_result"
    }
   ],
   "source": [
    "s.name = 'Menu'\n",
    "s"
   ]
  },
  {
   "cell_type": "code",
   "execution_count": 18,
   "id": "similar-coverage",
   "metadata": {},
   "outputs": [
    {
     "data": {
      "text/plain": [
       "메뉴명\n",
       "치킨     16000\n",
       "탕수육    18000\n",
       "곱창     20000\n",
       "선지국    10000\n",
       "Name: Menu, dtype: int64"
      ]
     },
     "execution_count": 18,
     "metadata": {},
     "output_type": "execute_result"
    }
   ],
   "source": [
    "s.index.name = '메뉴명'\n",
    "s"
   ]
  },
  {
   "cell_type": "markdown",
   "id": "fabulous-witness",
   "metadata": {},
   "source": [
    "## 2-2. Series Indexing and Slicing"
   ]
  },
  {
   "cell_type": "code",
   "execution_count": 19,
   "id": "divine-interstate",
   "metadata": {},
   "outputs": [
    {
     "data": {
      "text/plain": [
       "메뉴명\n",
       "치킨     16000\n",
       "탕수육    18000\n",
       "곱창     20000\n",
       "선지국    10000\n",
       "Name: Menu, dtype: int64"
      ]
     },
     "execution_count": 19,
     "metadata": {},
     "output_type": "execute_result"
    }
   ],
   "source": [
    "s"
   ]
  },
  {
   "cell_type": "code",
   "execution_count": 20,
   "id": "cooperative-vermont",
   "metadata": {},
   "outputs": [
    {
     "data": {
      "text/plain": [
       "(16000, 16000)"
      ]
     },
     "execution_count": 20,
     "metadata": {},
     "output_type": "execute_result"
    }
   ],
   "source": [
    "# Indexing with indexing label\n",
    "s['치킨'], s.치킨 # you can use this way only when key value is strings."
   ]
  },
  {
   "cell_type": "code",
   "execution_count": 21,
   "id": "martial-flash",
   "metadata": {},
   "outputs": [
    {
     "data": {
      "text/plain": [
       "16000"
      ]
     },
     "execution_count": 21,
     "metadata": {},
     "output_type": "execute_result"
    }
   ],
   "source": [
    "# Indexing with index which begins with 0\n",
    "s[0]"
   ]
  },
  {
   "cell_type": "code",
   "execution_count": 22,
   "id": "twenty-coffee",
   "metadata": {},
   "outputs": [
    {
     "data": {
      "text/plain": [
       "(10000, 10000, 10000, 10000)"
      ]
     },
     "execution_count": 22,
     "metadata": {},
     "output_type": "execute_result"
    }
   ],
   "source": [
    "s['선지국'], s.선지국, s[3], s[-1] # you have to habituate to use index:-1"
   ]
  },
  {
   "cell_type": "markdown",
   "id": "virtual-teddy",
   "metadata": {},
   "source": [
    "Meanwhile, if indexing label was given number starts with 1, what will prioritize compare with 0 indexing or indexing label?"
   ]
  },
  {
   "cell_type": "code",
   "execution_count": 23,
   "id": "incorporated-northern",
   "metadata": {},
   "outputs": [
    {
     "data": {
      "text/plain": [
       "1    10\n",
       "2    20\n",
       "3    30\n",
       "4    40\n",
       "dtype: int64"
      ]
     },
     "execution_count": 23,
     "metadata": {},
     "output_type": "execute_result"
    }
   ],
   "source": [
    "t = pd.Series([10, 20, 30, 40], index=[1, 2 ,3, 4])\n",
    "t"
   ]
  },
  {
   "cell_type": "code",
   "execution_count": 24,
   "id": "recognized-interval",
   "metadata": {},
   "outputs": [
    {
     "data": {
      "text/plain": [
       "10"
      ]
     },
     "execution_count": 24,
     "metadata": {},
     "output_type": "execute_result"
    }
   ],
   "source": [
    "t[1]"
   ]
  },
  {
   "cell_type": "code",
   "execution_count": 25,
   "id": "convenient-excerpt",
   "metadata": {},
   "outputs": [
    {
     "data": {
      "text/plain": [
       "메뉴명\n",
       "치킨     16000\n",
       "탕수육    18000\n",
       "곱창     20000\n",
       "선지국    10000\n",
       "Name: Menu, dtype: int64"
      ]
     },
     "execution_count": 25,
     "metadata": {},
     "output_type": "execute_result"
    }
   ],
   "source": [
    "s"
   ]
  },
  {
   "cell_type": "code",
   "execution_count": 26,
   "id": "veterinary-analysis",
   "metadata": {},
   "outputs": [
    {
     "data": {
      "text/plain": [
       "메뉴명\n",
       "치킨    16000\n",
       "곱창    20000\n",
       "Name: Menu, dtype: int64"
      ]
     },
     "execution_count": 26,
     "metadata": {},
     "output_type": "execute_result"
    }
   ],
   "source": [
    "# Fancy Indexing\n",
    "s[['치킨', '곱창']]"
   ]
  },
  {
   "cell_type": "code",
   "execution_count": 27,
   "id": "essential-developer",
   "metadata": {},
   "outputs": [
    {
     "data": {
      "text/plain": [
       "메뉴명\n",
       "치킨    16000\n",
       "곱창    20000\n",
       "Name: Menu, dtype: int64"
      ]
     },
     "execution_count": 27,
     "metadata": {},
     "output_type": "execute_result"
    }
   ],
   "source": [
    "s[[0, 2]]"
   ]
  },
  {
   "cell_type": "code",
   "execution_count": 28,
   "id": "verified-publicity",
   "metadata": {},
   "outputs": [
    {
     "data": {
      "text/plain": [
       "메뉴명\n",
       "치킨      True\n",
       "탕수육    False\n",
       "곱창     False\n",
       "선지국     True\n",
       "Name: Menu, dtype: bool"
      ]
     },
     "execution_count": 28,
     "metadata": {},
     "output_type": "execute_result"
    }
   ],
   "source": [
    "# Boolean Indexing\n",
    "s <= 17000"
   ]
  },
  {
   "cell_type": "code",
   "execution_count": 29,
   "id": "transparent-snapshot",
   "metadata": {},
   "outputs": [
    {
     "data": {
      "text/plain": [
       "메뉴명\n",
       "치킨     16000\n",
       "선지국    10000\n",
       "Name: Menu, dtype: int64"
      ]
     },
     "execution_count": 29,
     "metadata": {},
     "output_type": "execute_result"
    }
   ],
   "source": [
    "s[s <= 17000]"
   ]
  },
  {
   "cell_type": "code",
   "execution_count": 30,
   "id": "limiting-rotation",
   "metadata": {},
   "outputs": [
    {
     "data": {
      "text/plain": [
       "메뉴명\n",
       "탕수육    18000\n",
       "곱창     20000\n",
       "Name: Menu, dtype: int64"
      ]
     },
     "execution_count": 30,
     "metadata": {},
     "output_type": "execute_result"
    }
   ],
   "source": [
    "s[(s >= 18000) & (s <= 20000)]"
   ]
  },
  {
   "cell_type": "code",
   "execution_count": 31,
   "id": "anonymous-arkansas",
   "metadata": {},
   "outputs": [
    {
     "data": {
      "text/plain": [
       "메뉴명\n",
       "치킨     16000\n",
       "탕수육    18000\n",
       "곱창     20000\n",
       "선지국    10000\n",
       "Name: Menu, dtype: int64"
      ]
     },
     "execution_count": 31,
     "metadata": {},
     "output_type": "execute_result"
    }
   ],
   "source": [
    "# Slicing(start:end:step)\n",
    "# 0 인덱싱으로 슬라이싱 : end 인덱스 -1\n",
    "s"
   ]
  },
  {
   "cell_type": "code",
   "execution_count": 32,
   "id": "rental-latino",
   "metadata": {},
   "outputs": [
    {
     "data": {
      "text/plain": [
       "메뉴명\n",
       "탕수육    18000\n",
       "곱창     20000\n",
       "Name: Menu, dtype: int64"
      ]
     },
     "execution_count": 32,
     "metadata": {},
     "output_type": "execute_result"
    }
   ],
   "source": [
    "s[1:3]"
   ]
  },
  {
   "cell_type": "code",
   "execution_count": 33,
   "id": "spectacular-lending",
   "metadata": {},
   "outputs": [
    {
     "data": {
      "text/plain": [
       "메뉴명\n",
       "탕수육    18000\n",
       "곱창     20000\n",
       "Name: Menu, dtype: int64"
      ]
     },
     "execution_count": 33,
     "metadata": {},
     "output_type": "execute_result"
    }
   ],
   "source": [
    "s['탕수육':'곱창']"
   ]
  },
  {
   "cell_type": "markdown",
   "id": "descending-adjustment",
   "metadata": {},
   "source": [
    "## 2-3. Series data CRUD"
   ]
  },
  {
   "cell_type": "code",
   "execution_count": 34,
   "id": "eligible-amino",
   "metadata": {},
   "outputs": [
    {
     "data": {
      "text/plain": [
       "메뉴명\n",
       "치킨     16000\n",
       "탕수육    18000\n",
       "Name: Menu, dtype: int64"
      ]
     },
     "execution_count": 34,
     "metadata": {},
     "output_type": "execute_result"
    }
   ],
   "source": [
    "# Inquiry begin with first\n",
    "s.head(2) # if you don't assign particular argument, default(5) is assigned automaically."
   ]
  },
  {
   "cell_type": "code",
   "execution_count": 35,
   "id": "exotic-graphics",
   "metadata": {},
   "outputs": [
    {
     "data": {
      "text/plain": [
       "메뉴명\n",
       "곱창     20000\n",
       "선지국    10000\n",
       "Name: Menu, dtype: int64"
      ]
     },
     "execution_count": 35,
     "metadata": {},
     "output_type": "execute_result"
    }
   ],
   "source": [
    "# Inquiry begin with last\n",
    "s.tail(2)"
   ]
  },
  {
   "cell_type": "code",
   "execution_count": 36,
   "id": "distinct-liberal",
   "metadata": {},
   "outputs": [
    {
     "data": {
      "text/plain": [
       "메뉴명\n",
       "치킨     16000\n",
       "탕수육    18000\n",
       "곱창     20000\n",
       "선지국    10000\n",
       "Name: Menu, dtype: int64"
      ]
     },
     "execution_count": 36,
     "metadata": {},
     "output_type": "execute_result"
    }
   ],
   "source": [
    "s"
   ]
  },
  {
   "cell_type": "code",
   "execution_count": 37,
   "id": "fifty-string",
   "metadata": {},
   "outputs": [
    {
     "data": {
      "text/plain": [
       "메뉴명\n",
       "치킨     16000\n",
       "탕수육    18000\n",
       "곱창     20000\n",
       "선지국    10000\n",
       "계란찜     3000\n",
       "Name: Menu, dtype: int64"
      ]
     },
     "execution_count": 37,
     "metadata": {},
     "output_type": "execute_result"
    }
   ],
   "source": [
    "# create data (계란찜)\n",
    "s['계란찜'] = 3000\n",
    "s"
   ]
  },
  {
   "cell_type": "code",
   "execution_count": 38,
   "id": "creative-defendant",
   "metadata": {},
   "outputs": [
    {
     "data": {
      "text/plain": [
       "메뉴명\n",
       "치킨     16000.0\n",
       "탕수육    18000.0\n",
       "곱창     20000.0\n",
       "선지국    10000.0\n",
       "계란찜     3000.0\n",
       "감자탕        NaN\n",
       "Name: Menu, dtype: float64"
      ]
     },
     "execution_count": 38,
     "metadata": {},
     "output_type": "execute_result"
    }
   ],
   "source": [
    "# when you didn't decide to value\n",
    "s['감자탕'] = np.NaN # NaN:Not a Number\n",
    "s"
   ]
  },
  {
   "cell_type": "code",
   "execution_count": 39,
   "id": "distinct-disaster",
   "metadata": {},
   "outputs": [
    {
     "data": {
      "text/plain": [
       "메뉴명\n",
       "치킨     False\n",
       "탕수육    False\n",
       "곱창     False\n",
       "선지국    False\n",
       "계란찜    False\n",
       "감자탕     True\n",
       "Name: Menu, dtype: bool"
      ]
     },
     "execution_count": 39,
     "metadata": {},
     "output_type": "execute_result"
    }
   ],
   "source": [
    "# how to find empty data\n",
    "s.isnull()"
   ]
  },
  {
   "cell_type": "code",
   "execution_count": 40,
   "id": "communist-river",
   "metadata": {},
   "outputs": [
    {
     "data": {
      "text/plain": [
       "메뉴명\n",
       "치킨     False\n",
       "탕수육    False\n",
       "곱창     False\n",
       "선지국    False\n",
       "계란찜    False\n",
       "감자탕     True\n",
       "Name: Menu, dtype: bool"
      ]
     },
     "execution_count": 40,
     "metadata": {},
     "output_type": "execute_result"
    }
   ],
   "source": [
    "s.isna() # same with isnull()"
   ]
  },
  {
   "cell_type": "code",
   "execution_count": 41,
   "id": "stable-privacy",
   "metadata": {},
   "outputs": [
    {
     "data": {
      "text/plain": [
       "메뉴명\n",
       "감자탕   NaN\n",
       "Name: Menu, dtype: float64"
      ]
     },
     "execution_count": 41,
     "metadata": {},
     "output_type": "execute_result"
    }
   ],
   "source": [
    "# Boolean Indexing\n",
    "s[s.isna()]"
   ]
  },
  {
   "cell_type": "code",
   "execution_count": 42,
   "id": "passing-things",
   "metadata": {},
   "outputs": [
    {
     "data": {
      "text/plain": [
       "메뉴명\n",
       "치킨      True\n",
       "탕수육     True\n",
       "곱창      True\n",
       "선지국     True\n",
       "계란찜     True\n",
       "감자탕    False\n",
       "Name: Menu, dtype: bool"
      ]
     },
     "execution_count": 42,
     "metadata": {},
     "output_type": "execute_result"
    }
   ],
   "source": [
    "# how to find not empty data\n",
    "s.notnull()"
   ]
  },
  {
   "cell_type": "code",
   "execution_count": 43,
   "id": "operational-constitutional",
   "metadata": {},
   "outputs": [
    {
     "data": {
      "text/plain": [
       "메뉴명\n",
       "치킨      True\n",
       "탕수육     True\n",
       "곱창      True\n",
       "선지국     True\n",
       "계란찜     True\n",
       "감자탕    False\n",
       "Name: Menu, dtype: bool"
      ]
     },
     "execution_count": 43,
     "metadata": {},
     "output_type": "execute_result"
    }
   ],
   "source": [
    "s.notna() # same with not null()"
   ]
  },
  {
   "cell_type": "code",
   "execution_count": 44,
   "id": "coated-perspective",
   "metadata": {},
   "outputs": [
    {
     "data": {
      "text/plain": [
       "메뉴명\n",
       "치킨     16000.0\n",
       "탕수육    18000.0\n",
       "곱창     20000.0\n",
       "선지국    10000.0\n",
       "계란찜     3000.0\n",
       "Name: Menu, dtype: float64"
      ]
     },
     "execution_count": 44,
     "metadata": {},
     "output_type": "execute_result"
    }
   ],
   "source": [
    "s[s.notnull()]"
   ]
  },
  {
   "cell_type": "code",
   "execution_count": 45,
   "id": "animated-wells",
   "metadata": {},
   "outputs": [
    {
     "data": {
      "text/plain": [
       "메뉴명\n",
       "치킨     18000.0\n",
       "탕수육    18000.0\n",
       "곱창     20000.0\n",
       "선지국    10000.0\n",
       "계란찜     3000.0\n",
       "감자탕        NaN\n",
       "Name: Menu, dtype: float64"
      ]
     },
     "execution_count": 45,
     "metadata": {},
     "output_type": "execute_result"
    }
   ],
   "source": [
    "# how to update the value - changing value of chicken to 18000\n",
    "s[0] = 18000\n",
    "s"
   ]
  },
  {
   "cell_type": "code",
   "execution_count": 46,
   "id": "complex-slave",
   "metadata": {},
   "outputs": [
    {
     "data": {
      "text/plain": [
       "메뉴명\n",
       "치킨     18000.0\n",
       "탕수육    18000.0\n",
       "곱창     20000.0\n",
       "선지국    10000.0\n",
       "계란찜     3000.0\n",
       "Name: Menu, dtype: float64"
      ]
     },
     "execution_count": 46,
     "metadata": {},
     "output_type": "execute_result"
    }
   ],
   "source": [
    "# how to delete the data - deleting Gamja-tang.\n",
    "del s['감자탕']\n",
    "s"
   ]
  },
  {
   "cell_type": "markdown",
   "id": "patent-cedar",
   "metadata": {},
   "source": [
    "## 2-4. Series Calculation"
   ]
  },
  {
   "cell_type": "markdown",
   "id": "residential-variance",
   "metadata": {},
   "source": [
    "### 1) calculation between Series."
   ]
  },
  {
   "cell_type": "code",
   "execution_count": 49,
   "id": "tribal-making",
   "metadata": {},
   "outputs": [
    {
     "data": {
      "text/plain": [
       "치킨2    18000\n",
       "탕수육    18000\n",
       "곱창     20000\n",
       "선지국    10000\n",
       "계란찜     3000\n",
       "dtype: int64"
      ]
     },
     "execution_count": 49,
     "metadata": {},
     "output_type": "execute_result"
    }
   ],
   "source": [
    "data = [18000, 18000, 20000, 10000, 3000]\n",
    "index = ['치킨2', '탕수육', '곱창', '선지국', '계란찜']\n",
    "s2 = pd.Series(data=data, index=index)\n",
    "s2"
   ]
  },
  {
   "cell_type": "code",
   "execution_count": 50,
   "id": "numeric-marker",
   "metadata": {},
   "outputs": [
    {
     "data": {
      "text/plain": [
       "계란찜     6000.0\n",
       "곱창     40000.0\n",
       "선지국    20000.0\n",
       "치킨         NaN\n",
       "치킨2        NaN\n",
       "탕수육    36000.0\n",
       "dtype: float64"
      ]
     },
     "execution_count": 50,
     "metadata": {},
     "output_type": "execute_result"
    }
   ],
   "source": [
    "s + s2  # you must match with two Series' index label if you want to calculate them or calculating will fail."
   ]
  },
  {
   "cell_type": "markdown",
   "id": "ready-maximum",
   "metadata": {},
   "source": [
    "### 2) calculation between Scalar (Broadcast)"
   ]
  },
  {
   "cell_type": "code",
   "execution_count": 52,
   "id": "rising-understanding",
   "metadata": {},
   "outputs": [
    {
     "data": {
      "text/plain": [
       "메뉴명\n",
       "치킨     22000.0\n",
       "탕수육    22000.0\n",
       "곱창     24000.0\n",
       "선지국    14000.0\n",
       "계란찜     7000.0\n",
       "Name: Menu, dtype: float64"
      ]
     },
     "execution_count": 52,
     "metadata": {},
     "output_type": "execute_result"
    }
   ],
   "source": [
    "s = s + 2000\n",
    "s"
   ]
  },
  {
   "cell_type": "markdown",
   "id": "working-chocolate",
   "metadata": {},
   "source": [
    "### 3) Aggregation Funtion"
   ]
  },
  {
   "cell_type": "code",
   "execution_count": 53,
   "id": "worldwide-circus",
   "metadata": {},
   "outputs": [
    {
     "data": {
      "text/plain": [
       "24000.0"
      ]
     },
     "execution_count": 53,
     "metadata": {},
     "output_type": "execute_result"
    }
   ],
   "source": [
    "s.max()"
   ]
  },
  {
   "cell_type": "code",
   "execution_count": 54,
   "id": "identified-eugene",
   "metadata": {},
   "outputs": [
    {
     "data": {
      "text/plain": [
       "7000.0"
      ]
     },
     "execution_count": 54,
     "metadata": {},
     "output_type": "execute_result"
    }
   ],
   "source": [
    "s.min()"
   ]
  },
  {
   "cell_type": "code",
   "execution_count": 55,
   "id": "infrared-action",
   "metadata": {},
   "outputs": [
    {
     "data": {
      "text/plain": [
       "89000.0"
      ]
     },
     "execution_count": 55,
     "metadata": {},
     "output_type": "execute_result"
    }
   ],
   "source": [
    "s.sum()"
   ]
  },
  {
   "cell_type": "code",
   "execution_count": 56,
   "id": "rental-applicant",
   "metadata": {},
   "outputs": [
    {
     "data": {
      "text/plain": [
       "17800.0"
      ]
     },
     "execution_count": 56,
     "metadata": {},
     "output_type": "execute_result"
    }
   ],
   "source": [
    "s.mean()"
   ]
  },
  {
   "cell_type": "code",
   "execution_count": 57,
   "id": "insured-enzyme",
   "metadata": {},
   "outputs": [
    {
     "data": {
      "text/plain": [
       "22000.0"
      ]
     },
     "execution_count": 57,
     "metadata": {},
     "output_type": "execute_result"
    }
   ],
   "source": [
    "s.median()"
   ]
  }
 ],
 "metadata": {
  "kernelspec": {
   "display_name": "Python 3",
   "language": "python",
   "name": "python3"
  },
  "language_info": {
   "codemirror_mode": {
    "name": "ipython",
    "version": 3
   },
   "file_extension": ".py",
   "mimetype": "text/x-python",
   "name": "python",
   "nbconvert_exporter": "python",
   "pygments_lexer": "ipython3",
   "version": "3.7.10"
  }
 },
 "nbformat": 4,
 "nbformat_minor": 5
}
