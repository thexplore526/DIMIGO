{
 "cells": [
  {
   "cell_type": "markdown",
   "id": "surgical-democrat",
   "metadata": {},
   "source": [
    "# 1. What is Pandas?\n",
    "* Pandas is the Library for data analysis with Python.\n",
    "* It is based on NumPy and offers efficient data structure for data analysis.\n",
    "* **one-dimensional array form : Series**\n",
    "* **two-dimensional array form : DataFrame**\n",
    "* https://pandas.pydata.org\n",
    "* https://github.com/pandas-dev/pandas\n",
    "* Pandas Cheet Sheet 참고"
   ]
  },
  {
   "cell_type": "code",
   "execution_count": 1,
   "id": "established-softball",
   "metadata": {},
   "outputs": [],
   "source": [
    "import pandas as pd"
   ]
  },
  {
   "cell_type": "code",
   "execution_count": 2,
   "id": "architectural-replica",
   "metadata": {},
   "outputs": [
    {
     "data": {
      "text/plain": [
       "'1.2.3'"
      ]
     },
     "execution_count": 2,
     "metadata": {},
     "output_type": "execute_result"
    }
   ],
   "source": [
    "pd.__version__"
   ]
  }
 ],
 "metadata": {
  "kernelspec": {
   "display_name": "Python 3",
   "language": "python",
   "name": "python3"
  },
  "language_info": {
   "codemirror_mode": {
    "name": "ipython",
    "version": 3
   },
   "file_extension": ".py",
   "mimetype": "text/x-python",
   "name": "python",
   "nbconvert_exporter": "python",
   "pygments_lexer": "ipython3",
   "version": "3.7.10"
  }
 },
 "nbformat": 4,
 "nbformat_minor": 5
}
