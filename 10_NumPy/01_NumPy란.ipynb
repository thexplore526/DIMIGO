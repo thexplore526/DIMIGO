{
 "cells": [
  {
   "cell_type": "markdown",
   "id": "tested-performer",
   "metadata": {},
   "source": [
    "# 1. NumPy란?\n",
    "* NumPy(Numerical Python)는 행렬이나 다차원 배열을 쉽게 처리할 수 있도록 지원하는 파이썬 라이브러리이다.\n",
    "* 수치계산을 위한 효율적인 기능을 제공한다.\n",
    "* Web Site : https://numpy.org"
   ]
  },
  {
   "cell_type": "markdown",
   "id": "integral-chocolate",
   "metadata": {},
   "source": [
    "## 1-1. NumPy import"
   ]
  },
  {
   "cell_type": "code",
   "execution_count": 4,
   "id": "alien-delicious",
   "metadata": {},
   "outputs": [],
   "source": [
    "import numpy"
   ]
  },
  {
   "cell_type": "code",
   "execution_count": 5,
   "id": "smart-astrology",
   "metadata": {},
   "outputs": [
    {
     "data": {
      "text/plain": [
       "'1.19.2'"
      ]
     },
     "execution_count": 5,
     "metadata": {},
     "output_type": "execute_result"
    }
   ],
   "source": [
    "numpy.__version__"
   ]
  },
  {
   "cell_type": "code",
   "execution_count": 6,
   "id": "mexican-belfast",
   "metadata": {},
   "outputs": [
    {
     "name": "stdout",
     "output_type": "stream",
     "text": [
      "1.19.2\n"
     ]
    }
   ],
   "source": [
    "print(numpy.__version__)"
   ]
  },
  {
   "cell_type": "code",
   "execution_count": 7,
   "id": "brief-islam",
   "metadata": {},
   "outputs": [],
   "source": [
    "import numpy as np"
   ]
  },
  {
   "cell_type": "code",
   "execution_count": 8,
   "id": "joined-trouble",
   "metadata": {},
   "outputs": [
    {
     "data": {
      "text/plain": [
       "'1.19.2'"
      ]
     },
     "execution_count": 8,
     "metadata": {},
     "output_type": "execute_result"
    }
   ],
   "source": [
    "np.__version__"
   ]
  }
 ],
 "metadata": {
  "kernelspec": {
   "display_name": "Python 3",
   "language": "python",
   "name": "python3"
  },
  "language_info": {
   "codemirror_mode": {
    "name": "ipython",
    "version": 3
   },
   "file_extension": ".py",
   "mimetype": "text/x-python",
   "name": "python",
   "nbconvert_exporter": "python",
   "pygments_lexer": "ipython3",
   "version": "3.7.10"
  }
 },
 "nbformat": 4,
 "nbformat_minor": 5
}
